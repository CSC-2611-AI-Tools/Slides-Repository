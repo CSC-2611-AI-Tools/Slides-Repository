{
 "cells": [
  {
   "cell_type": "code",
   "execution_count": null,
   "id": "initial_id",
   "metadata": {
    "collapsed": true
   },
   "outputs": [],
   "source": ""
  },
  {
   "metadata": {},
   "cell_type": "markdown",
   "source": [
    "Python Data Types \\\n",
    "There are 8 types of data types in Python, which are as follows:\n",
    "- Integers (int): whole numbers such as 3, 300 & 200\n",
    "- Floating Point (float): numbers with a decimal point (2.3, 4.6 & 100.0)\n",
    "- Strings (str): ordered sequence of characters ('hello', 'Sammy' & '2000'\n",
    "- Lists (list): ordered sequence of objects [ 10, \"hello\", 200.3 ]\n",
    "- Dictionaries (dict): unordered key-value pairs { \"mykey\" : \"value\", \"name\" : \"Frankie\" }\n",
    "- Tuples (tup): ordered immutable sequence of objects (10, \"hello\", 200.3)\n",
    "- Sets (set): unordered collection of unique objects { \"a\" , \"b\" }\n",
    "- Booleans (bool): logical value indicating True or False"
   ],
   "id": "b85a3674dc3d414f"
  },
  {
   "metadata": {},
   "cell_type": "code",
   "outputs": [],
   "execution_count": null,
   "source": "",
   "id": "ae9f28e21d51a003"
  }
 ],
 "metadata": {
  "kernelspec": {
   "display_name": "Python 3",
   "language": "python",
   "name": "python3"
  },
  "language_info": {
   "codemirror_mode": {
    "name": "ipython",
    "version": 2
   },
   "file_extension": ".py",
   "mimetype": "text/x-python",
   "name": "python",
   "nbconvert_exporter": "python",
   "pygments_lexer": "ipython2",
   "version": "2.7.6"
  }
 },
 "nbformat": 4,
 "nbformat_minor": 5
}
