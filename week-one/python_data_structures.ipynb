{
 "cells": [
  {
   "cell_type": "markdown",
   "id": "b85a3674dc3d414f",
   "metadata": {},
   "source": [
    "### Python Data Types\n",
    "There are 8 types of data types in Python, which are as follows:\n",
    "- Integers (int): whole numbers such as 3, 300 & 200\n",
    "- Floating Point (float): numbers with a decimal point (2.3, 4.6 & 100.0)\n",
    "- Strings (str): ordered sequence of characters ('hello', 'Sammy' & '2000'\n",
    "- Lists (list): ordered sequence of objects [ 10, \"hello\", 200.3 ]\n",
    "- Dictionaries (dict): unordered key-value pairs { \"mykey\" : \"value\", \"name\" : \"Frankie\" }\n",
    "- Tuples (tup): ordered immutable sequence of objects (10, \"hello\", 200.3)\n",
    "- Sets (set): unordered collection of unique objects { \"a\" , \"b\" }\n",
    "- Booleans (bool): logical value indicating True or False"
   ]
  },
  {
   "cell_type": "markdown",
   "id": "b6cc8012-c373-436a-8bc3-a144d0777c5c",
   "metadata": {},
   "source": [
    "### Python Numbers"
   ]
  },
  {
   "cell_type": "code",
   "execution_count": 3,
   "id": "7a1fbbb6-34c5-4b87-8ace-c940ac2029fe",
   "metadata": {},
   "outputs": [
    {
     "name": "stdout",
     "output_type": "stream",
     "text": [
      "0.6000000000000001\n"
     ]
    }
   ],
   "source": [
    "result = 0.1 + 0.2 + 0.3\n",
    "print(result)"
   ]
  },
  {
   "cell_type": "code",
   "execution_count": 4,
   "id": "b909c734-aa4c-4aa7-9c1f-1353bf457aac",
   "metadata": {},
   "outputs": [
    {
     "name": "stdout",
     "output_type": "stream",
     "text": [
      "0.6\n"
     ]
    }
   ],
   "source": [
    "from decimal import Decimal\n",
    "result = Decimal(\"0.1\") + Decimal(\"0.2\") + Decimal(\"0.3\")\n",
    "print(result)"
   ]
  },
  {
   "cell_type": "markdown",
   "id": "d1c67757-288d-461a-9089-89c4f7541bb1",
   "metadata": {},
   "source": [
    "### Variable Assignments\n",
    "- Names can't start with a number\n",
    "- No spaces in the name, should be replaced with _\n",
    "- Must use names that are lowercase in nature\n",
    "- Avoid using Python keywords\n",
    "\n",
    "### Dynamic Typing \n",
    "- **Benefits:** easy to work with & faster development time\n",
    "- **Cons:** might result in bugs & be aware of type()"
   ]
  },
  {
   "cell_type": "code",
   "execution_count": 3,
   "id": "000cb456-7ebb-40ff-b1bd-0fc766ecdd78",
   "metadata": {},
   "outputs": [
    {
     "name": "stdout",
     "output_type": "stream",
     "text": [
      "2\n",
      "['Sammy', 'Frankie']\n"
     ]
    }
   ],
   "source": [
    "my_dogs_one = 2\n",
    "my_dogs_two = [\"Sammy\", \"Frankie\"]\n",
    "print(my_dogs_one)\n",
    "print(my_dogs_two)"
   ]
  },
  {
   "cell_type": "markdown",
   "id": "f79c3050-6b85-4cda-9ac5-472538c67f57",
   "metadata": {},
   "source": [
    "### Strings\n",
    "Strings are a sequence of characters, which use the syntax of either single quotes or double quotes"
   ]
  },
  {
   "cell_type": "code",
   "execution_count": 4,
   "id": "48d8251b-352d-404f-9f18-e748524cdb88",
   "metadata": {},
   "outputs": [
    {
     "name": "stdout",
     "output_type": "stream",
     "text": [
      "Hello World\n",
      "Hello World\n",
      "Use \n",
      " to print a new line\n",
      "See what I mean\n"
     ]
    }
   ],
   "source": [
    "print(\"Hello World\")\n",
    "print('Hello World')\n",
    "print(\"Use \\n to print a new line\")\n",
    "print(\"See what I mean\")"
   ]
  },
  {
   "cell_type": "markdown",
   "id": "6b92676e-0c5f-4e6b-ab72-25bd3226da26",
   "metadata": {},
   "source": [
    "### String Indexing\n",
    "**Indexing:** use [ ] and a number to indicate positions of what you wish to grab"
   ]
  },
  {
   "cell_type": "code",
   "execution_count": 6,
   "id": "c5c33fd2-a9de-4f3d-b431-0f9d498b3c07",
   "metadata": {},
   "outputs": [
    {
     "name": "stdout",
     "output_type": "stream",
     "text": [
      "H\n"
     ]
    }
   ],
   "source": [
    "s = \"Hello World\"\n",
    "print(s[0])"
   ]
  },
  {
   "cell_type": "markdown",
   "id": "a64848f4-e11d-4822-b7b9-47c6f76933b3",
   "metadata": {},
   "source": [
    "### String Slicing\n",
    " Slicing allows you to grab a subsection of multiple characters, a \"slice\" of the string. This has the following syntax: [ start: stop: step ]"
   ]
  },
  {
   "cell_type": "code",
   "execution_count": 11,
   "id": "9308bf59-1059-4b8f-8a01-d1a520ed985b",
   "metadata": {},
   "outputs": [
    {
     "name": "stdout",
     "output_type": "stream",
     "text": [
      "ello World\n",
      "Hel\n",
      "Hello World\n",
      "d\n",
      "Hello World\n",
      "HloWrd\n",
      "dlroW olleH\n"
     ]
    }
   ],
   "source": [
    "s = \"Hello World\"\n",
    "print(s[1:]) # grabs everything past the first term\n",
    "print(s[:3]) # grabs everything up to the third index\n",
    "print(s[:]) # grabs everything \n",
    "print(s[-1]) # grabs the one index behind zero\n",
    "print(s[::1]) # grabs everything but goes in steps size of 1\n",
    "print(s[::2]) # grabs everything but goes in steps size of 2\n",
    "print(s[::-1]) # used to print a string backwards"
   ]
  },
  {
   "cell_type": "markdown",
   "id": "cd06ba21-119f-4d17-a62c-374e56902b81",
   "metadata": {},
   "source": [
    "### More on Strings\n",
    "Strings are immutable and can be concatenated"
   ]
  },
  {
   "cell_type": "code",
   "execution_count": 12,
   "id": "2e942672-4d2e-4b0a-9201-3d49f7879fab",
   "metadata": {},
   "outputs": [
    {
     "name": "stdout",
     "output_type": "stream",
     "text": [
      "Hello World it is beautiful outside!\n",
      "zzzzzzzzzz\n"
     ]
    },
    {
     "data": {
      "text/plain": [
       "'23'"
      ]
     },
     "execution_count": 12,
     "metadata": {},
     "output_type": "execute_result"
    }
   ],
   "source": [
    "x = 'Hello World'\n",
    "x = x + ' it is beautiful outside!'\n",
    "print(x)\n",
    "\n",
    "letter = 'z'\n",
    "print(letter * 10)\n",
    "\n",
    "'2' + '3'"
   ]
  },
  {
   "cell_type": "markdown",
   "id": "3daad8cb-cee1-4fc5-b085-36a987d677e1",
   "metadata": {},
   "source": [
    "### String Methods & Print Formatting"
   ]
  },
  {
   "cell_type": "code",
   "execution_count": 15,
   "id": "bdd2542c-6023-4cfc-9249-630fe4277011",
   "metadata": {},
   "outputs": [
    {
     "name": "stdout",
     "output_type": "stream",
     "text": [
      "HELLO WORLD\n",
      "hello world\n",
      "['Hello', 'World']\n",
      "This is a string INSERTED\n",
      "The fox brown quick\n",
      "The quick brown fox\n"
     ]
    }
   ],
   "source": [
    "s = \"Hello World\"\n",
    "print(s.upper())\n",
    "print(s.lower())\n",
    "print(s.split())\n",
    "\n",
    "print(\"This is a string {}\".format(\"INSERTED\"))\n",
    "print(\"The {} {} {}\".format('fox', 'brown', 'quick'))\n",
    "print(\"The {2} {1} {0}\".format('fox', 'brown', 'quick'))"
   ]
  },
  {
   "cell_type": "markdown",
   "id": "75dede44-fc48-4f2b-a71a-d0243c5846f0",
   "metadata": {},
   "source": [
    "### Lists and Examples\n",
    "Lists are ordered sequences that holds different object types. They use [ ] and support indexing and slicing. Lists can be nested and have various useful methods which can be called"
   ]
  },
  {
   "cell_type": "code",
   "execution_count": 16,
   "id": "60e39dc8-5ef9-4b26-92b5-069ccf99bc3a",
   "metadata": {},
   "outputs": [
    {
     "data": {
      "text/plain": [
       "4"
      ]
     },
     "execution_count": 16,
     "metadata": {},
     "output_type": "execute_result"
    }
   ],
   "source": [
    "# assigning a list to a variable\n",
    "my_list = [1, 2, 3]\n",
    "my_list = ['A string', 23, 100.232, 'o']\n",
    "len(my_list)"
   ]
  },
  {
   "cell_type": "markdown",
   "id": "81c4204c-ccea-49fc-9d2d-40bb5511c977",
   "metadata": {},
   "source": [
    "### Lists Indexing & Slicing Examples\n"
   ]
  },
  {
   "cell_type": "code",
   "execution_count": 17,
   "id": "92616bcf-7a7a-4183-9ae8-95c41a069b3b",
   "metadata": {},
   "outputs": [
    {
     "data": {
      "text/plain": [
       "['one', 'two', 'three']"
      ]
     },
     "execution_count": 17,
     "metadata": {},
     "output_type": "execute_result"
    }
   ],
   "source": [
    "my_list = ['one', 'two', 'three', 4, 5]\n",
    "my_list[0] # grabs element at index 0\n",
    "my_list[1:] # grabs everything past index 1 and past it\n",
    "my_list[:3] # grabs everything upto index 3"
   ]
  },
  {
   "cell_type": "code",
   "execution_count": 32,
   "id": "c0618dec-93fa-487d-bd15-8a53acf9ecb7",
   "metadata": {},
   "outputs": [
    {
     "name": "stdout",
     "output_type": "stream",
     "text": [
      "['one', 'two', 'three', 4, 5]\n",
      "['one', 'two', 'three', 4, 5, 'add new item permanently']\n"
     ]
    }
   ],
   "source": [
    "my_list = ['one', 'two', 'three', 4, 5]\n",
    "\n",
    "my_list + ['new item']\n",
    "print(my_list) # doing this doesn't change the list\n",
    "my_list = my_list + ['add new item permanently']\n",
    "print(my_list) # list needs to be reassigned to make permanent change"
   ]
  },
  {
   "cell_type": "code",
   "execution_count": 33,
   "id": "9f9efb6e-1806-40fb-8909-3f043f5e6a6b",
   "metadata": {},
   "outputs": [
    {
     "name": "stdout",
     "output_type": "stream",
     "text": [
      "['one', 'two', 'three', 4, 5, 'one', 'two', 'three', 4, 5]\n"
     ]
    },
    {
     "data": {
      "text/plain": [
       "['one', 'two', 'three', 4, 5]"
      ]
     },
     "execution_count": 33,
     "metadata": {},
     "output_type": "execute_result"
    }
   ],
   "source": [
    "my_list = ['one', 'two', 'three', 4, 5]\n",
    "print(my_list * 2)\n",
    "my_list # as seen, not permanent here"
   ]
  },
  {
   "cell_type": "code",
   "execution_count": 31,
   "id": "0767a66b-132c-40af-981c-ffce2ebd1bb5",
   "metadata": {},
   "outputs": [
    {
     "name": "stdout",
     "output_type": "stream",
     "text": [
      "['one', 'two', 'three', 4, 5, 'append me!']\n"
     ]
    }
   ],
   "source": [
    "my_list = ['one', 'two', 'three', 4, 5]\n",
    "my_list.append('append me!')\n",
    "print(my_list)"
   ]
  },
  {
   "cell_type": "markdown",
   "id": "3a579335-fbb7-47a8-91e2-081ce0b5625b",
   "metadata": {},
   "source": [
    "### List Pop, Sort & Reverse Methods"
   ]
  },
  {
   "cell_type": "code",
   "execution_count": 34,
   "id": "3802d7e8-2577-48fc-aeef-67e0abefd178",
   "metadata": {},
   "outputs": [
    {
     "name": "stdout",
     "output_type": "stream",
     "text": [
      "Popped item: hello\n"
     ]
    },
    {
     "data": {
      "text/plain": [
       "[]"
      ]
     },
     "execution_count": 34,
     "metadata": {},
     "output_type": "execute_result"
    }
   ],
   "source": [
    "list1 = ['hello', 'world']\n",
    "list1.pop()\n",
    "list1\n",
    "\n",
    "popped_item = list1.pop()\n",
    "print(\"Popped item: \" + popped_item)\n",
    "\n",
    "list1"
   ]
  },
  {
   "cell_type": "code",
   "execution_count": 37,
   "id": "143efe8a-2957-4780-8ba2-74425cc56a08",
   "metadata": {},
   "outputs": [
    {
     "name": "stdout",
     "output_type": "stream",
     "text": [
      "['a', 'e', 'x', 'b', 'c']\n",
      "Reversed:  ['c', 'b', 'x', 'e', 'a']\n",
      "Sorted:  ['a', 'b', 'c', 'e', 'x']\n"
     ]
    }
   ],
   "source": [
    "new_list = ['a', 'e', 'x', 'b', 'c']\n",
    "print(new_list)\n",
    "new_list.reverse()\n",
    "print(\"Reversed: \" , new_list)\n",
    "new_list.sort()\n",
    "print(\"Sorted: \" , new_list)"
   ]
  },
  {
   "cell_type": "markdown",
   "id": "4ca132c4-4bba-44f7-b45a-d3c43290881b",
   "metadata": {},
   "source": [
    "### Nesting Lists"
   ]
  },
  {
   "cell_type": "code",
   "execution_count": 40,
   "id": "aba94bfc-1982-4869-aec2-c715ad5cb894",
   "metadata": {},
   "outputs": [
    {
     "name": "stdout",
     "output_type": "stream",
     "text": [
      "[[1, 2, 3], [4, 5, 6], [7, 8, 9]]\n",
      "[1, 2, 3]\n",
      "1\n"
     ]
    }
   ],
   "source": [
    "list1 = [1, 2, 3]\n",
    "list2 = [4, 5, 6]\n",
    "list3 = [7, 8, 9]\n",
    "matrix = [list1, list2, list3]\n",
    "print(matrix)\n",
    "\n",
    "#grabbing the first item in matrix\n",
    "print(matrix[0])\n",
    "print(matrix[0][0])"
   ]
  },
  {
   "cell_type": "markdown",
   "id": "34c1e3ad-5cdb-4c52-9500-afc30922316f",
   "metadata": {},
   "source": [
    "### List Comprehensions"
   ]
  },
  {
   "cell_type": "code",
   "execution_count": 41,
   "id": "05b622b5-2189-4a36-926b-779aa61ba417",
   "metadata": {},
   "outputs": [
    {
     "name": "stdout",
     "output_type": "stream",
     "text": [
      "[1, 4, 7]\n"
     ]
    }
   ],
   "source": [
    "first_col = [row[0] for row in matrix]\n",
    "print(first_col)"
   ]
  },
  {
   "cell_type": "markdown",
   "id": "86fca820-f1fd-418c-b7b7-2df5ccfa94cc",
   "metadata": {},
   "source": [
    "### Dictionaries\n",
    "Dictionaries are unordered mappings for storing objects. Dictionaries use key-value pairing, which allows users to quickly grabbing objects without needing to know an index location."
   ]
  },
  {
   "cell_type": "code",
   "execution_count": null,
   "id": "0b568356-1be5-47ab-9514-422698b808bc",
   "metadata": {},
   "outputs": [],
   "source": []
  }
 ],
 "metadata": {
  "kernelspec": {
   "display_name": "Python 3 (ipykernel)",
   "language": "python",
   "name": "python3"
  },
  "language_info": {
   "codemirror_mode": {
    "name": "ipython",
    "version": 3
   },
   "file_extension": ".py",
   "mimetype": "text/x-python",
   "name": "python",
   "nbconvert_exporter": "python",
   "pygments_lexer": "ipython3",
   "version": "3.11.9"
  }
 },
 "nbformat": 4,
 "nbformat_minor": 5
}
