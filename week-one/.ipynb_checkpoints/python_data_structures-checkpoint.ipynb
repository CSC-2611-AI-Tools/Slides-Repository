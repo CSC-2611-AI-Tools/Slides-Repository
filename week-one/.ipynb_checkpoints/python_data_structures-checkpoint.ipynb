{
 "cells": [
  {
   "cell_type": "markdown",
   "id": "b85a3674dc3d414f",
   "metadata": {},
   "source": [
    "## Python Data Types\n",
    "There are 8 types of data types in Python, which are as follows:\n",
    "- Integers (int): whole numbers such as 3, 300 & 200\n",
    "- Floating Point (float): numbers with a decimal point (2.3, 4.6 & 100.0)\n",
    "- Strings (str): ordered sequence of characters ('hello', 'Sammy' & '2000'\n",
    "- Lists (list): ordered sequence of objects [ 10, \"hello\", 200.3 ]\n",
    "- Dictionaries (dict): unordered key-value pairs { \"mykey\" : \"value\", \"name\" : \"Frankie\" }\n",
    "- Tuples (tup): ordered immutable sequence of objects (10, \"hello\", 200.3)\n",
    "- Sets (set): unordered collection of unique objects { \"a\" , \"b\" }\n",
    "- Booleans (bool): logical value indicating True or False"
   ]
  },
  {
   "cell_type": "markdown",
   "id": "b6cc8012-c373-436a-8bc3-a144d0777c5c",
   "metadata": {},
   "source": [
    "## Python Numbers"
   ]
  },
  {
   "cell_type": "code",
   "execution_count": 3,
   "id": "7a1fbbb6-34c5-4b87-8ace-c940ac2029fe",
   "metadata": {},
   "outputs": [
    {
     "name": "stdout",
     "output_type": "stream",
     "text": [
      "0.6000000000000001\n"
     ]
    }
   ],
   "source": [
    "result = 0.1 + 0.2 + 0.3\n",
    "print(result)"
   ]
  },
  {
   "cell_type": "code",
   "execution_count": 4,
   "id": "b909c734-aa4c-4aa7-9c1f-1353bf457aac",
   "metadata": {},
   "outputs": [
    {
     "name": "stdout",
     "output_type": "stream",
     "text": [
      "0.6\n"
     ]
    }
   ],
   "source": [
    "from decimal import Decimal\n",
    "result = Decimal(\"0.1\") + Decimal(\"0.2\") + Decimal(\"0.3\")\n",
    "print(result)"
   ]
  },
  {
   "cell_type": "markdown",
   "id": "d1c67757-288d-461a-9089-89c4f7541bb1",
   "metadata": {},
   "source": [
    "## Variable Assignments\n",
    "- Names can't start with a number\n",
    "- No spaces in the name, should be replaced with _\n",
    "- Must use names that are lowercase in nature\n",
    "- Avoid using Python keywords"
   ]
  },
  {
   "cell_type": "code",
   "execution_count": null,
   "id": "000cb456-7ebb-40ff-b1bd-0fc766ecdd78",
   "metadata": {},
   "outputs": [],
   "source": []
  }
 ],
 "metadata": {
  "kernelspec": {
   "display_name": "Python 3 (ipykernel)",
   "language": "python",
   "name": "python3"
  },
  "language_info": {
   "codemirror_mode": {
    "name": "ipython",
    "version": 3
   },
   "file_extension": ".py",
   "mimetype": "text/x-python",
   "name": "python",
   "nbconvert_exporter": "python",
   "pygments_lexer": "ipython3",
   "version": "3.11.9"
  }
 },
 "nbformat": 4,
 "nbformat_minor": 5
}
