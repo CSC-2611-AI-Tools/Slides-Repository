{
 "cells": [
  {
   "cell_type": "code",
   "execution_count": null,
   "metadata": {
    "id": "1B-RPUIq2x9m"
   },
   "outputs": [],
   "source": [
    "import pandas as pd"
   ]
  },
  {
   "cell_type": "markdown",
   "metadata": {
    "id": "j27UqGoP3L8Q"
   },
   "source": [
    "## 1. Use the pd.read_csv() function to read data from 'IMDB-Movie-Data.csv' file into a DataFrame. Specify 'Title' column to be used as the index of the DataFrame"
   ]
  },
  {
   "cell_type": "code",
   "execution_count": null,
   "metadata": {
    "id": "hGmKW47D2jdU"
   },
   "outputs": [],
   "source": [
    "movies_df = pd.read_csv(\"/content/drive/MyDrive/MSOE Courses/2024/AI_Tools_24/Week4/IMDB-Movie-Data.csv\", index_col=\"Title\")"
   ]
  },
  {
   "cell_type": "markdown",
   "metadata": {
    "id": "OhUFpzhC5UKJ"
   },
   "source": [
    "## 2. You want to rename the 'Runtime (Minutes)' column to 'Runtime' and the 'Revenue (Millions)' column to 'Revenue_millions'.How would you write the code to rename these columns in place (i.e., directly modify the existing DataFrame) and then display the updated list of column names to verify the changes?"
   ]
  },
  {
   "cell_type": "code",
   "execution_count": null,
   "metadata": {
    "colab": {
     "base_uri": "https://localhost:8080/"
    },
    "id": "dBaSHJSe5HLy",
    "outputId": "8ec34384-993e-492b-8abe-436345279c3e"
   },
   "outputs": [],
   "source": [
    "movies_df.rename(columns={\n",
    "        'Runtime (Minutes)': 'Runtime',\n",
    "        'Revenue (Millions)': 'Revenue_millions'\n",
    "    }, inplace=True)\n",
    "\n",
    "\n",
    "movies_df.columns"
   ]
  },
  {
   "cell_type": "markdown",
   "metadata": {
    "id": "xIBBRS3Z59Xj"
   },
   "source": [
    "## 3. Imagine you want to standardize the column names in your movies_df DataFrame by converting all of them to lowercase. How would you write the code to modify the column names directly and then display the updated list of column names to ensure the changes were applied?"
   ]
  },
  {
   "cell_type": "code",
   "execution_count": null,
   "metadata": {
    "colab": {
     "base_uri": "https://localhost:8080/"
    },
    "id": "643ro7775OsP",
    "outputId": "118e20d2-1b8c-4506-d038-b44c17248c34"
   },
   "outputs": [],
   "source": [
    "movies_df.columns = [col.lower() for col in movies_df]\n",
    "\n",
    "movies_df.columns"
   ]
  },
  {
   "cell_type": "markdown",
   "metadata": {
    "id": "E_l569px3xe0"
   },
   "source": [
    "## 2. How would you write a line of code to display a concise summary of the DataFrame, including the number of entries, columns, data types, and memory usage?\n",
    "\n"
   ]
  },
  {
   "cell_type": "code",
   "execution_count": null,
   "metadata": {
    "colab": {
     "base_uri": "https://localhost:8080/"
    },
    "id": "MgCBW5HZ24y_",
    "outputId": "946ec833-9b75-4cfb-cea6-57622c7a16f1"
   },
   "outputs": [],
   "source": [
    "movies_df.info()"
   ]
  },
  {
   "cell_type": "code",
   "execution_count": null,
   "metadata": {
    "colab": {
     "base_uri": "https://localhost:8080/",
     "height": 300
    },
    "id": "SdliT6z3S8O7",
    "outputId": "c9119460-50d9-4288-86b7-9ab78b1f4d6c"
   },
   "outputs": [],
   "source": [
    "movies_df.describe()"
   ]
  },
  {
   "cell_type": "markdown",
   "metadata": {
    "id": "i1bD3vnc4Mfl"
   },
   "source": [
    "## Access 'genre' Column Using Single Brackets:"
   ]
  },
  {
   "cell_type": "code",
   "execution_count": null,
   "metadata": {
    "colab": {
     "base_uri": "https://localhost:8080/",
     "height": 203
    },
    "id": "XfbzlG2i4RWB",
    "outputId": "878f55ce-7bb4-404f-b081-bf76047abaab"
   },
   "outputs": [],
   "source": [
    "genre_col = movies_df['genre']\n",
    "type(genre_col)"
   ]
  },
  {
   "cell_type": "markdown",
   "metadata": {
    "id": "4AnqUJe-4fMO"
   },
   "source": [
    "## Access a Column Using Double Brackets:"
   ]
  },
  {
   "cell_type": "code",
   "execution_count": null,
   "metadata": {
    "colab": {
     "base_uri": "https://localhost:8080/",
     "height": 203
    },
    "id": "rZVPU9Uo4b2u",
    "outputId": "6970b09b-915a-4972-a777-ef91b8b705e3"
   },
   "outputs": [],
   "source": [
    "genre_col = movies_df[['genre']]\n",
    "type(genre_col)"
   ]
  },
  {
   "cell_type": "code",
   "execution_count": null,
   "metadata": {
    "colab": {
     "base_uri": "https://localhost:8080/",
     "height": 455
    },
    "id": "pVIKZFsUTVIY",
    "outputId": "282e5bc8-f46c-4641-f8e5-324c72984349"
   },
   "outputs": [],
   "source": [
    "genre_col"
   ]
  },
  {
   "cell_type": "markdown",
   "metadata": {
    "id": "HUIojtq14820"
   },
   "source": [
    "## To create a new DataFrame containing only 'Genre' and 'ratings'"
   ]
  },
  {
   "cell_type": "code",
   "execution_count": null,
   "metadata": {
    "id": "Jbc0A7834mxm"
   },
   "outputs": [],
   "source": [
    "subset = movies_df[['genre', 'rating']]"
   ]
  },
  {
   "cell_type": "code",
   "execution_count": null,
   "metadata": {
    "colab": {
     "base_uri": "https://localhost:8080/"
    },
    "id": "sF68Pbt_80wN",
    "outputId": "33b2788b-8ba6-4f4b-d00d-670758c9669b"
   },
   "outputs": [],
   "source": [
    "movies_df.columns"
   ]
  },
  {
   "cell_type": "markdown",
   "metadata": {
    "id": "iB0rkTc2_zBm"
   },
   "source": [
    "## In your movies_df DataFrame, the movie titles are used as the row index (e.g., \"Prometheus\") Write a line of code to select the row where the index name is \"Prometheus\" and assign it to a variable called prom."
   ]
  },
  {
   "cell_type": "code",
   "execution_count": null,
   "metadata": {
    "colab": {
     "base_uri": "https://localhost:8080/",
     "height": 604
    },
    "id": "gTblSD_u_pka",
    "outputId": "94104c14-bf14-4725-d3ad-180b0bf16c03"
   },
   "outputs": [],
   "source": [
    "prom = movies_df.loc[\"Prometheus\"]\n",
    "\n",
    "type(prom)"
   ]
  },
  {
   "cell_type": "markdown",
   "metadata": {
    "id": "_LL6-UxWAMA9"
   },
   "source": [
    "## Unlike loc, which is used to select rows and columns by their label (index name), iloc is used to select rows and columns by their integer position in the DataFrame. Write a line of code to select the second row of the movies_df DataFrame (which is at position 1) and assign it to a variable called prom."
   ]
  },
  {
   "cell_type": "code",
   "execution_count": null,
   "metadata": {
    "id": "jt7RR0Ff_-Lh"
   },
   "outputs": [],
   "source": [
    "prom = movies_df.iloc[1]"
   ]
  },
  {
   "cell_type": "markdown",
   "metadata": {
    "id": "WuTL4boIAhOL"
   },
   "source": [
    "### To select a subset of rows from \"Prometheus\" to \"Sing\", both of which are index names in your DataFrame, use the loc method."
   ]
  },
  {
   "cell_type": "code",
   "execution_count": null,
   "metadata": {
    "id": "0T2b9P0tAWjH"
   },
   "outputs": [],
   "source": [
    "movie_subset = movies_df.loc['Prometheus':'Sing']"
   ]
  },
  {
   "cell_type": "markdown",
   "metadata": {
    "id": "0JL03PBDAr7s"
   },
   "source": [
    "### To select the rows corresponding to positions 1 through 3 (which is up to but not including position 4), use the iloc method."
   ]
  },
  {
   "cell_type": "code",
   "execution_count": null,
   "metadata": {
    "id": "EfqI4j3rAw8s"
   },
   "outputs": [],
   "source": [
    "movie_subset = movies_df.iloc[1:4]"
   ]
  },
  {
   "cell_type": "markdown",
   "metadata": {
    "id": "7wa15QpQA5ju"
   },
   "source": [
    "### In Pandas, you can filter rows in a DataFrame by applying a condition. This condition returns a boolean Series, which can then be used to index the DataFrame.Suppose you want to filter the DataFrame to show only the rows where the director column equals \"Ridley Scott\".Write a condition inside the square brackets [] to filter the DataFrame."
   ]
  },
  {
   "cell_type": "code",
   "execution_count": null,
   "metadata": {
    "colab": {
     "base_uri": "https://localhost:8080/",
     "height": 709
    },
    "id": "AJLaU4vUBBvC",
    "outputId": "548cdaa2-8f3b-457b-e967-170b5ab77b59"
   },
   "outputs": [],
   "source": [
    "movies_df[movies_df['director'] == \"Ridley Scott\"].head()"
   ]
  },
  {
   "cell_type": "markdown",
   "metadata": {
    "id": "5VXR9YFaBPE2"
   },
   "source": [
    "### Suppose you want to filter the DataFrame to show only the rows where the rating column is greater than or equal to 8.6.Write this condition inside square brackets [] to filter the DataFrame."
   ]
  },
  {
   "cell_type": "code",
   "execution_count": null,
   "metadata": {
    "colab": {
     "base_uri": "https://localhost:8080/",
     "height": 403
    },
    "id": "fkd3553XBP1h",
    "outputId": "efb9da08-d32c-492c-a5ae-49b31810bec1"
   },
   "outputs": [],
   "source": [
    "movies_df[movies_df['rating'] >= 8.6].head(3)"
   ]
  },
  {
   "cell_type": "markdown",
   "metadata": {
    "id": "_QeSBVGPBU8H"
   },
   "source": [
    "### Suppose you want to filter the DataFrame to show only the rows where the director is either \"Christopher Nolan\" or \"Ridley Scott\". Combine these conditions inside the square brackets [] using the OR (|) operator."
   ]
  },
  {
   "cell_type": "code",
   "execution_count": null,
   "metadata": {
    "colab": {
     "base_uri": "https://localhost:8080/",
     "height": 622
    },
    "id": "OFmaQQO4BhEt",
    "outputId": "554b89c8-bf79-408f-f796-cb2a816b2b80"
   },
   "outputs": [],
   "source": [
    "movies_df[(movies_df['director'] == 'Christopher Nolan') | (movies_df['director'] == 'Ridley Scott')].head()"
   ]
  },
  {
   "cell_type": "markdown",
   "metadata": {
    "id": "YfAjV5_5BkJh"
   },
   "source": [
    "### Suppose you want to filter the DataFrame to show only the rows where the director is either \"Christopher Nolan\" or \"Ridley Scott\".Use the isin() method to check if the director column's values are in the list ['Christopher Nolan', 'Ridley Scott']."
   ]
  },
  {
   "cell_type": "code",
   "execution_count": null,
   "metadata": {
    "colab": {
     "base_uri": "https://localhost:8080/",
     "height": 622
    },
    "id": "F1X4k4kbBvn3",
    "outputId": "28958f92-9909-4c8a-be82-8a8c67e95ab9"
   },
   "outputs": [],
   "source": [
    "movies_df[movies_df['director'].isin(['Christopher Nolan', 'Ridley Scott'])].head()"
   ]
  },
  {
   "cell_type": "markdown",
   "metadata": {
    "id": "fo7nu06CEuWj"
   },
   "source": [
    "### In Pandas, you can filter rows by combining multiple conditions using the AND (&) operator. When using multiple conditions, ensure each condition is enclosed in parentheses."
   ]
  },
  {
   "cell_type": "markdown",
   "metadata": {
    "id": "L-ludjsVExrc"
   },
   "source": [
    "### Start by filtering the DataFrame to include only movies released between 2005 and 2010, inclusive. This condition will use the year column:"
   ]
  },
  {
   "cell_type": "code",
   "execution_count": null,
   "metadata": {
    "colab": {
     "base_uri": "https://localhost:8080/",
     "height": 490
    },
    "id": "9haBQ_wiExD7",
    "outputId": "068e3e7f-448a-45ff-f27c-0fc48f5df8b0"
   },
   "outputs": [],
   "source": [
    "(movies_df['year'] >= 2005) & (movies_df['year'] <= 2010)\n"
   ]
  },
  {
   "cell_type": "markdown",
   "metadata": {
    "id": "TdFhkwvwE84g"
   },
   "source": [
    "### Add another condition to include only movies with a rating greater than 8.0"
   ]
  },
  {
   "cell_type": "code",
   "execution_count": null,
   "metadata": {
    "colab": {
     "base_uri": "https://localhost:8080/",
     "height": 490
    },
    "id": "8qO5AoocFAxL",
    "outputId": "4f1f9b1f-af70-4142-c390-0a91126aa68b"
   },
   "outputs": [],
   "source": [
    "(movies_df['year'] >= 2005) & (movies_df['year'] <= 2010)& (movies_df['rating'] > 8.0)\n",
    "\n"
   ]
  },
  {
   "cell_type": "markdown",
   "metadata": {
    "id": "A_OnV_2NFGSw"
   },
   "source": [
    "### Add a final condition to include only movies where the revenue_millions is less than the 25th percentile (first quartile) of all revenue_millions values. Use the quantile(0.25) method to calculate this:"
   ]
  },
  {
   "cell_type": "code",
   "execution_count": null,
   "metadata": {
    "colab": {
     "base_uri": "https://localhost:8080/",
     "height": 490
    },
    "id": "7Z379SoWFLAM",
    "outputId": "a64f4e41-2898-48cf-8bc1-f548c5d92bbf"
   },
   "outputs": [],
   "source": [
    "(movies_df['year'] >= 2005) & (movies_df['year'] <= 2010)& (movies_df['rating'] > 8.0)& (movies_df['revenue_millions'] < movies_df['revenue_millions'].quantile(0.25))\n"
   ]
  },
  {
   "cell_type": "markdown",
   "metadata": {
    "id": "YQKOvSiIFQjb"
   },
   "source": [
    "### Combine these conditions inside the square brackets [] to filter the DataFrame:"
   ]
  },
  {
   "cell_type": "code",
   "execution_count": null,
   "metadata": {
    "colab": {
     "base_uri": "https://localhost:8080/",
     "height": 469
    },
    "id": "uwXh5CFjFOfg",
    "outputId": "aaa081de-e67e-4a19-9b43-c9da061fdc71"
   },
   "outputs": [],
   "source": [
    "movies_df[\n",
    "    ((movies_df['year'] >= 2005) & (movies_df['year'] <= 2010))\n",
    "    & (movies_df['rating'] > 8.0)\n",
    "    & (movies_df['revenue_millions'] < movies_df['revenue_millions'].quantile(0.25))\n",
    "]\n"
   ]
  },
  {
   "cell_type": "markdown",
   "metadata": {
    "id": "XPI9s01hFeFW"
   },
   "source": [
    "### You will define a custom function that categorizes movie ratings as either \"good\" or \"bad\" based on the rating value. The function takes a single input x (a movie rating) and returns \"good\" if the rating is 8.0 or higher, and \"bad\" if it is lower."
   ]
  },
  {
   "cell_type": "code",
   "execution_count": null,
   "metadata": {
    "id": "QCbnI1WPFnlk"
   },
   "outputs": [],
   "source": [
    "def rating_function(x):\n",
    "    if x >= 8.0:\n",
    "        return \"good\"\n",
    "    else:\n",
    "        return \"bad\""
   ]
  },
  {
   "cell_type": "markdown",
   "metadata": {
    "id": "7NQBpoqDFp5q"
   },
   "source": [
    "### Use the .apply() method to apply rating_function to each value in the rating column of the DataFrame. The result will be a new column named rating_category, which will contain either \"good\" or \"bad\" based on the movie's rating:"
   ]
  },
  {
   "cell_type": "code",
   "execution_count": null,
   "metadata": {
    "colab": {
     "base_uri": "https://localhost:8080/",
     "height": 490
    },
    "id": "8vPfBMR6Fu_e",
    "outputId": "d2adab85-4121-43f5-d518-a303f309e64d"
   },
   "outputs": [],
   "source": [
    "movies_df[\"rating_category\"] = movies_df[\"rating\"].apply(rating_function)\n",
    "\n",
    "movies_df.head(3)"
   ]
  },
  {
   "cell_type": "markdown",
   "metadata": {
    "id": "7BjZDcI-F8_0"
   },
   "source": [
    "### Use the .apply() method to apply the lambda function directly to each value in the rating column. The result will be a new column named rating_category, which will contain either \"good\" or \"bad\" based on the movie's rating:"
   ]
  },
  {
   "cell_type": "code",
   "execution_count": null,
   "metadata": {
    "colab": {
     "base_uri": "https://localhost:8080/",
     "height": 490
    },
    "id": "v9Iv5MvCF-pu",
    "outputId": "3d2a56a3-b464-4462-a055-ae55aa19931a"
   },
   "outputs": [],
   "source": [
    "movies_df[\"rating_category\"] = movies_df[\"rating\"].apply(lambda x: 'good' if x >= 8.0 else 'bad')\n",
    "\n",
    "movies_df.head(3)"
   ]
  },
  {
   "cell_type": "markdown",
   "metadata": {
    "id": "Nm8cOJ0lGP5q"
   },
   "source": [
    "### A scatter plot is used to visualize the relationship between two numerical variables. In this case, you will create a scatter plot to examine the relationship between movie ratings and revenue."
   ]
  },
  {
   "cell_type": "code",
   "execution_count": null,
   "metadata": {
    "colab": {
     "base_uri": "https://localhost:8080/",
     "height": 490
    },
    "id": "Quh6iQDZGdvL",
    "outputId": "f0541feb-a62e-477d-bde2-1df89ec5aa75"
   },
   "outputs": [],
   "source": [
    "movies_df.plot(kind='scatter', x='rating', y='revenue_millions', title='Revenue (millions) vs Rating')"
   ]
  },
  {
   "cell_type": "markdown",
   "metadata": {
    "id": "rPXO4uTLGmlp"
   },
   "source": [
    "### Create a Histogram to examine the distribution of 'rating'"
   ]
  },
  {
   "cell_type": "code",
   "execution_count": null,
   "metadata": {
    "colab": {
     "base_uri": "https://localhost:8080/",
     "height": 452
    },
    "id": "So5H4QlUGik9",
    "outputId": "a4239bc0-7ea8-4b78-f8d7-193c906eaaa9"
   },
   "outputs": [],
   "source": [
    "movies_df['rating'].plot(kind='hist', title='Rating');"
   ]
  },
  {
   "cell_type": "markdown",
   "metadata": {
    "id": "KlC1ebz0GyBa"
   },
   "source": [
    "### Draw a boxplot to examine the distribution of 'rating'"
   ]
  },
  {
   "cell_type": "code",
   "execution_count": null,
   "metadata": {
    "colab": {
     "base_uri": "https://localhost:8080/",
     "height": 430
    },
    "id": "T9SO6efgG2HA",
    "outputId": "2935c84f-a5e7-40a8-bbb5-9cd0e7987791"
   },
   "outputs": [],
   "source": [
    "movies_df['rating'].plot(kind=\"box\");"
   ]
  },
  {
   "cell_type": "markdown",
   "metadata": {
    "id": "pw_zKrpDG5mp"
   },
   "source": [
    "### The boxplot() method in Pandas allows you to create a boxplot for a specified column. You can group the data by another column to compare distributions across categories. Set column='revenue_millions' to plot the distribution of the revenue_millions column. Use the by argument to group the data by the rating_category column, which categorizes movies as \"good\" or \"bad\"."
   ]
  },
  {
   "cell_type": "code",
   "execution_count": null,
   "metadata": {
    "colab": {
     "base_uri": "https://localhost:8080/",
     "height": 478
    },
    "id": "p6cla2LUHJPn",
    "outputId": "9e2565b2-26d7-450b-8271-e7a3d226e692"
   },
   "outputs": [],
   "source": [
    "movies_df.boxplot(column=\"revenue_millions\", by=\"rating_category\")"
   ]
  },
  {
   "cell_type": "code",
   "execution_count": null,
   "metadata": {},
   "outputs": [],
   "source": []
  }
 ],
 "metadata": {
  "colab": {
   "provenance": []
  },
  "kernelspec": {
   "display_name": "Python 3 (ipykernel)",
   "language": "python",
   "name": "python3"
  },
  "language_info": {
   "codemirror_mode": {
    "name": "ipython",
    "version": 3
   },
   "file_extension": ".py",
   "mimetype": "text/x-python",
   "name": "python",
   "nbconvert_exporter": "python",
   "pygments_lexer": "ipython3",
   "version": "3.11.9"
  }
 },
 "nbformat": 4,
 "nbformat_minor": 4
}
