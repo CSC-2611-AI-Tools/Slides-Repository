{
 "cells": [
  {
   "cell_type": "markdown",
   "metadata": {
    "id": "YmD5Q1TaZ1yA"
   },
   "source": [
    "Exercise 1: Use for, .split(), and if to create a Statement that will print out words that start with 's':"
   ]
  },
  {
   "cell_type": "code",
   "execution_count": 17,
   "metadata": {
    "id": "5mtsO-itZmZ7",
    "jupyter": {
     "is_executing": true
    }
   },
   "outputs": [
    {
     "name": "stdout",
     "output_type": "stream",
     "text": [
      "start\n",
      "s\n",
      "sentence\n"
     ]
    }
   ],
   "source": [
    "st = 'Print only the words that start with s in this sentence'\n",
    "split_strings = st.split()\n",
    "for word in split_strings:\n",
    "    if word[0] == 's':\n",
    "        print(word)"
   ]
  },
  {
   "cell_type": "markdown",
   "metadata": {
    "id": "ZfQNyh6Nahi7"
   },
   "source": [
    "Exercise 2: Write a program that prints the integers from 1 to 100. But for multiples of three print \"Fizz\" instead of the number, and for the multiples of five print \"Buzz\". For numbers which are multiples of both three and five print \"FizzBuzz\".\n"
   ]
  },
  {
   "cell_type": "code",
   "execution_count": 14,
   "metadata": {
    "id": "VkQiUtRHalqB"
   },
   "outputs": [
    {
     "name": "stdout",
     "output_type": "stream",
     "text": [
      "1\n",
      "Buzz\n",
      "Fizz\n",
      "4\n",
      "5\n",
      "Fizz\n",
      "7\n",
      "Buzz\n",
      "Fizz\n",
      "Buzz\n",
      "11\n",
      "Fizz\n",
      "13\n",
      "14\n",
      "FizzBuzz\n",
      "Buzz\n",
      "17\n",
      "Buzz\n",
      "19\n",
      "20\n",
      "Fizz\n",
      "22\n",
      "23\n",
      "Buzz\n",
      "25\n",
      "Buzz\n",
      "Fizz\n",
      "28\n",
      "29\n",
      "FizzBuzz\n",
      "31\n",
      "Buzz\n",
      "Fizz\n",
      "Buzz\n",
      "35\n",
      "Fizz\n",
      "37\n",
      "38\n",
      "Fizz\n",
      "Buzz\n",
      "41\n",
      "Buzz\n",
      "43\n",
      "44\n",
      "FizzBuzz\n",
      "46\n",
      "47\n",
      "Buzz\n",
      "49\n",
      "Buzz\n",
      "Fizz\n",
      "52\n",
      "53\n",
      "Fizz\n",
      "55\n",
      "Buzz\n",
      "Fizz\n",
      "Buzz\n",
      "59\n",
      "FizzBuzz\n",
      "61\n",
      "62\n",
      "Fizz\n",
      "Buzz\n",
      "65\n",
      "Buzz\n",
      "67\n",
      "68\n",
      "Fizz\n",
      "70\n",
      "71\n",
      "Buzz\n",
      "73\n",
      "Buzz\n",
      "FizzBuzz\n",
      "76\n",
      "77\n",
      "Fizz\n",
      "79\n",
      "Buzz\n",
      "Fizz\n",
      "Buzz\n",
      "83\n",
      "Fizz\n",
      "85\n",
      "86\n",
      "Fizz\n",
      "Buzz\n",
      "89\n",
      "FizzBuzz\n",
      "91\n",
      "92\n",
      "Fizz\n",
      "94\n",
      "95\n",
      "Buzz\n",
      "97\n",
      "Buzz\n",
      "Fizz\n",
      "100\n"
     ]
    }
   ],
   "source": [
    "for i in range(1, 101):\n",
    "    if( i%3 == 0 and i%5 == 0):\n",
    "        print(\"FizzBuzz\")\n",
    "    elif(i&5 == 0):\n",
    "        print(\"Buzz\")\n",
    "    elif(i%3 == 0):\n",
    "        print(\"Fizz\")\n",
    "    else:\n",
    "        print(i)"
   ]
  },
  {
   "cell_type": "markdown",
   "metadata": {
    "id": "WaoD4G5kasdW"
   },
   "source": [
    "Exercise 3: You are given a list of tuples, where each tuple contains a student's name and their respective score. Your task is to iterate over the list, unpack each tuple into its name and score, and print the names of students who scored more than 70.\n"
   ]
  },
  {
   "cell_type": "code",
   "execution_count": 16,
   "metadata": {
    "id": "jspTCrK9aqA_"
   },
   "outputs": [
    {
     "name": "stdout",
     "output_type": "stream",
     "text": [
      "Emma 85\n",
      "Liam 90\n",
      "Sophia 72\n"
     ]
    }
   ],
   "source": [
    "students_scores = [('John', 65), ('Emma', 85), ('Liam', 90), ('Sophia', 72), ('Olivia', 68)]\n",
    "for(t1, t2) in students_scores:\n",
    "    if t2 > 70:\n",
    "        print(t1, t2)"
   ]
  },
  {
   "cell_type": "markdown",
   "metadata": {
    "id": "_BHuVpwTa5gz"
   },
   "source": [
    "Exercise 4: You are given a dictionary that stores the prices of fruits. Your task is to iterate over the dictionary, unpacking the keys (fruit names) and values (their prices), and print each fruit name and its price in the format: \"The price of [fruit] is [price] dollars.\"\n",
    "\n",
    "fruit_prices = {'Apple': 3, 'Banana': 1, 'Orange': 2, 'Mango': 5, 'Grapes': 4}\n",
    "\n",
    "The price of Apple is 3 dollars.\n",
    "\n",
    "The price of Banana is 1 dollar.\n",
    "\n",
    "The price of Orange is 2 dollars.\n",
    "\n",
    "The price of Mango is 5 dollars.\n",
    "\n",
    "The price of Grapes is 4 dollars.\n"
   ]
  },
  {
   "cell_type": "code",
   "execution_count": 21,
   "metadata": {
    "id": "hnz57TOIbJND"
   },
   "outputs": [
    {
     "name": "stdout",
     "output_type": "stream",
     "text": [
      "The price of Appple is 3 dollars\n",
      "The price of Banana is 1 dollars\n",
      "The price of Orange is 2 dollars\n",
      "The price of Mango is 5 dollars\n",
      "The price of Grapes is 4 dollars\n"
     ]
    }
   ],
   "source": [
    "fruit_prices = {'Appple':3, 'Banana':1, 'Orange':2, 'Mango':5, 'Grapes':4}\n",
    "for fruit, price in fruit_prices.items():\n",
    "    print(f\"The price of {fruit} is {price} dollars\")"
   ]
  },
  {
   "cell_type": "markdown",
   "metadata": {
    "id": "ircu8IiHcjO_"
   },
   "source": [
    "Exercise 5: You are given two lists, one containing the names of students and the other containing their corresponding grades. Your task is to use zip and enumerate to print out the index, name, and grade of each student in the format shown below:\n",
    "\n",
    "students = ['John', 'Alice', 'Bob', 'Maria']\n",
    "grades = [85, 92, 78, 90]\n",
    "\n",
    "1. John has a grade of 85\n",
    "2. Alice has a grade of 92\n",
    "3. Bob has a grade of 78\n",
    "4. Maria has a grade of 90\n"
   ]
  },
  {
   "cell_type": "code",
   "execution_count": 32,
   "metadata": {
    "id": "K3mfofIkcsgS"
   },
   "outputs": [
    {
     "name": "stdout",
     "output_type": "stream",
     "text": [
      "1. John has a grade of 85\n",
      "2. Alice has a grade of 92\n",
      "3. Maria has a grade of 78\n"
     ]
    }
   ],
   "source": [
    "students = ['John', 'Alice', 'Maria']\n",
    "grades = [ 85, 92, 78, 90 ]\n",
    "zipped = zip(students, grades)\n",
    "for index, (students, grades) in enumerate(zipped, start=1):\n",
    "    print(f\"{index}. {students} has a grade of {grades}\")"
   ]
  },
  {
   "cell_type": "markdown",
   "metadata": {
    "id": "eV9iP50cct06"
   },
   "source": [
    "Exercise 6: Use a List Comprehension to create a list of the first letters of every word in the string below:\n",
    "\n",
    "st = 'Create a list of the first letters of every word in this string'\n"
   ]
  },
  {
   "cell_type": "code",
   "execution_count": null,
   "metadata": {
    "id": "fOgo2alRc-VJ"
   },
   "outputs": [],
   "source": []
  }
 ],
 "metadata": {
  "colab": {
   "provenance": []
  },
  "kernelspec": {
   "display_name": "Python 3 (ipykernel)",
   "language": "python",
   "name": "python3"
  },
  "language_info": {
   "codemirror_mode": {
    "name": "ipython",
    "version": 3
   },
   "file_extension": ".py",
   "mimetype": "text/x-python",
   "name": "python",
   "nbconvert_exporter": "python",
   "pygments_lexer": "ipython3",
   "version": "3.11.9"
  }
 },
 "nbformat": 4,
 "nbformat_minor": 4
}
