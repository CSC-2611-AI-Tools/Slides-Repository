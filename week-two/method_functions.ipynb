{
 "cells": [
  {
   "cell_type": "markdown",
   "id": "14f60ca4-1e41-4260-989f-b5a005052dfc",
   "metadata": {
    "collapsed": true,
    "jupyter": {
     "outputs_hidden": true
    }
   },
   "source": [
    "### Python Methods\n",
    "In Python, a method is a function which is associated with a object. When we talk about methods, we refer to the function that belong to classes and can be called on instances of those classes."
   ]
  },
  {
   "cell_type": "code",
   "execution_count": 1,
   "id": "fa182c4c-b5ed-46b7-866e-9a32192d0837",
   "metadata": {},
   "outputs": [
    {
     "name": "stdout",
     "output_type": "stream",
     "text": [
      "Woof!\n"
     ]
    }
   ],
   "source": [
    "# deifning a simple class\n",
    "class Dog:\n",
    "    def bark(self):\n",
    "        return \"Woof!\"\n",
    "\n",
    "# creating an instance of the class\n",
    "my_dog = Dog()\n",
    "\n",
    "# calling the method\n",
    "print(my_dog.bark())"
   ]
  },
  {
   "cell_type": "markdown",
   "id": "0fe159ef-e6be-42e6-b556-90bbe07f3b1f",
   "metadata": {},
   "source": [
    "### Difference between Functions & Methods\n",
    "- **Function:** a function is a block of code which performs a specific task. It is independent and can be called anywhere in the code, given that you define or import it\n",
    "- **Methods:** a method is a tool inside a toolbox that only works when you have the toolbox with you\n",
    "\n",
    "The methods for a list are as follows: append(), count(), extend(), insert(), pop(), remove(), reverse() and sort(). Methods are used to perform specific actions on an object and can also take arguments"
   ]
  },
  {
   "cell_type": "markdown",
   "id": "71c88b66-e3c4-454c-8ded-1e24a9bc6b6c",
   "metadata": {},
   "source": [
    "### Docstring\n",
    "A docstring is a special type of string in Python used to document functions, classes, and modules. It provides a way to describe what the function does, what its inputs and outputs are, and any other details"
   ]
  },
  {
   "cell_type": "code",
   "execution_count": 1,
   "id": "daa7a40c-d1e8-40ae-a246-eb8307481de4",
   "metadata": {},
   "outputs": [],
   "source": [
    "def greet(name):\n",
    "    \"\"\"\n",
    "    This function greets the person whose name is passed as an argument.\n",
    "\n",
    "    Parameters:\n",
    "    name (str): The name of the person to greet.\n",
    "\n",
    "    Returns:\n",
    "    str: A greeting message.\n",
    "    \"\"\"\n",
    "\n",
    "    return f\"Hello, {name}!\"\n",
    "    "
   ]
  },
  {
   "cell_type": "code",
   "execution_count": 3,
   "id": "3c68c0a9-78cb-4a1d-a592-bda8fa9fb894",
   "metadata": {},
   "outputs": [
    {
     "name": "stdout",
     "output_type": "stream",
     "text": [
      "Help on function greet in module __main__:\n",
      "\n",
      "greet(name)\n",
      "    This function greets the person whose name is passed as an argument.\n",
      "    \n",
      "    Parameters:\n",
      "    name (str): The name of the person to greet.\n",
      "    \n",
      "    Returns:\n",
      "    str: A greeting message.\n",
      "\n",
      "\n",
      "    This function greets the person whose name is passed as an argument.\n",
      "\n",
      "    Parameters:\n",
      "    name (str): The name of the person to greet.\n",
      "\n",
      "    Returns:\n",
      "    str: A greeting message.\n",
      "    \n"
     ]
    }
   ],
   "source": [
    "help(greet)\n",
    "print(greet.__doc__)"
   ]
  },
  {
   "cell_type": "markdown",
   "id": "81a63e32-8dac-46f6-a730-452dd217cd72",
   "metadata": {},
   "source": [
    "### Docstring Best Practices\n",
    " - Keep it clear and concise: avoid overly long explanations\n",
    " - Describe parameters and return values: use the format in the examples above for clarity\n",
    " - Mention any exceptions raised: if you function raises any exceptions, document them"
   ]
  },
  {
   "cell_type": "markdown",
   "id": "ab8cdecf-e1c6-4ceb-8992-0f07d8b12d2c",
   "metadata": {},
   "source": [
    "### Exercise 1\n",
    "Write a Python function to check if any number in a list is even"
   ]
  },
  {
   "cell_type": "code",
   "execution_count": 4,
   "id": "aad6416f-03a5-4a7a-be47-422b21c5b6e3",
   "metadata": {},
   "outputs": [],
   "source": [
    "def check_even_list(number_list):\n",
    "    for number in number_list:\n",
    "        if number % 2 == 0:\n",
    "            print(True)\n",
    "        else:\n",
    "            print(False)"
   ]
  },
  {
   "cell_type": "code",
   "execution_count": 5,
   "id": "1f0a0b02-4736-45e4-9326-f78d717baac9",
   "metadata": {},
   "outputs": [
    {
     "name": "stdout",
     "output_type": "stream",
     "text": [
      "False\n",
      "True\n",
      "False\n"
     ]
    }
   ],
   "source": [
    "number_list = [1, 2, 3]\n",
    "check_even_list(number_list)"
   ]
  },
  {
   "cell_type": "markdown",
   "id": "2500c818-a538-4ac7-b879-f7f46b2ada96",
   "metadata": {},
   "source": [
    "### Exercise 2\n",
    "Write an \"employee of the month\" function that will return both the name and number of hours worked for the top performer"
   ]
  },
  {
   "cell_type": "code",
   "execution_count": 8,
   "id": "b343d2a5-4cfd-4a04-b6a6-f634f3177b94",
   "metadata": {},
   "outputs": [
    {
     "name": "stdout",
     "output_type": "stream",
     "text": [
      "Cassie 800\n"
     ]
    }
   ],
   "source": [
    "work_hours = [('Abby', 100), ('Billy', 400), ('Cassie', 800)]\n",
    "highest_hour = 0\n",
    "highest_name = \"\"\n",
    "\n",
    "for name, hour in work_hours:\n",
    "    if hour > highest_hour:\n",
    "        highest_hour = hour\n",
    "        highest_name = name\n",
    "print(highest_name, highest_hour)\n",
    "        "
   ]
  },
  {
   "cell_type": "markdown",
   "id": "a42eb90f-3b9b-4832-9bdb-06e56bb4a281",
   "metadata": {},
   "source": [
    "### Lambda Expressions, Map & Filter\n",
    "**Map:** the map function allows for mapping a function to a iterable object. It can quickly call the same function to every item in an iterable, such as a list"
   ]
  },
  {
   "cell_type": "code",
   "execution_count": 11,
   "id": "ac863c99-ffff-42e6-b3b0-a514de4a814a",
   "metadata": {},
   "outputs": [
    {
     "name": "stdout",
     "output_type": "stream",
     "text": [
      "[1, 4, 9, 16, 25]\n",
      "['even', 'C', 'S', 'K', 'even']\n"
     ]
    }
   ],
   "source": [
    "def square(num):\n",
    "    return num ** 2\n",
    "my_nums = [1, 2, 3, 4, 5]\n",
    "print(list(map(square, my_nums)))\n",
    "\n",
    "def splicer(mystring):\n",
    "    if len(mystring) % 2 == 0:\n",
    "        return 'even'\n",
    "    else:\n",
    "        return mystring[0]\n",
    "mynames = ['John', 'Cindy', 'Sarah', 'Kelly', 'Mike']\n",
    "print(list(map(splicer, mynames)))"
   ]
  },
  {
   "cell_type": "markdown",
   "id": "2f800dd2-11d7-4677-af13-c3256ee9b61f",
   "metadata": {},
   "source": [
    "### Exercise 3\n",
    "You're given a list of words. Write a function called word_processor that:\n",
    " - if the length of the word is greater than 4, return 'long'\n",
    " - otherwise, return the last character of the word\n",
    "Then use the map() function to apply this logic to a list of words and return the results as a list"
   ]
  },
  {
   "cell_type": "code",
   "execution_count": 15,
   "id": "5a813df9-0af6-4822-be9c-7251e56ecf9a",
   "metadata": {},
   "outputs": [
    {
     "name": "stdout",
     "output_type": "stream",
     "text": [
      "['long', 'long', 't', 'g', 'long']\n"
     ]
    }
   ],
   "source": [
    "def word_processor(word):\n",
    "    if len(word) > 4:\n",
    "        return 'long'\n",
    "    else:\n",
    "        return word[-1]\n",
    "            \n",
    "words = ['apple', 'banana', 'cat', 'dog', 'elephant']\n",
    "print(list(map(word_processor, words)))"
   ]
  },
  {
   "cell_type": "markdown",
   "id": "903676d5-4f18-4980-8aa9-4c58bf115697",
   "metadata": {},
   "source": [
    "### filter() Function\n",
    "The filter function returns a iterator yielding those items of iterable for which function(item) is true. This means you need to filter by a function that returns either True or False. Then, by passing into that filter, you will get back only the results that would return True when passed."
   ]
  },
  {
   "cell_type": "code",
   "execution_count": 16,
   "id": "d98b4e7f-eda9-4a6f-8b39-951c49600038",
   "metadata": {},
   "outputs": [
    {
     "data": {
      "text/plain": [
       "[0, 2, 4, 6, 8, 10]"
      ]
     },
     "execution_count": 16,
     "metadata": {},
     "output_type": "execute_result"
    }
   ],
   "source": [
    "def check_even(num):\n",
    "    return num % 2 == 0\n",
    "\n",
    "nums = [0, 1, 2, 3, 4, 5, 6, 7, 8, 9, 10]\n",
    "list(filter(check_even, nums))"
   ]
  },
  {
   "cell_type": "markdown",
   "id": "9b3bc141-7c0d-45d8-ae10-327ae3771b89",
   "metadata": {},
   "source": [
    "### Exercise 4\n",
    "You're given a list of strings and write function that:\n",
    "- returns True if the string has more than 5 characters\n",
    "- returns False otherwise\n",
    "\n",
    "Use the filter() function to create a new list containing only the strings with more than 5 characters"
   ]
  },
  {
   "cell_type": "code",
   "execution_count": 19,
   "id": "60d8fb62-1806-4b1a-8370-2f1e5837c63a",
   "metadata": {},
   "outputs": [
    {
     "data": {
      "text/plain": [
       "['Salvin', 'Braden', 'Christian']"
      ]
     },
     "execution_count": 19,
     "metadata": {},
     "output_type": "execute_result"
    }
   ],
   "source": [
    "def string_check(word):\n",
    "    if len(word) > 5:\n",
    "        return True\n",
    "    else:\n",
    "        return False\n",
    "list_string = ['Salvin', 'Braden', 'Christian', 'OK']\n",
    "list(filter(string_check, list_string))\n"
   ]
  }
 ],
 "metadata": {
  "kernelspec": {
   "display_name": "Python 3 (ipykernel)",
   "language": "python",
   "name": "python3"
  },
  "language_info": {
   "codemirror_mode": {
    "name": "ipython",
    "version": 3
   },
   "file_extension": ".py",
   "mimetype": "text/x-python",
   "name": "python",
   "nbconvert_exporter": "python",
   "pygments_lexer": "ipython3",
   "version": "3.11.9"
  }
 },
 "nbformat": 4,
 "nbformat_minor": 5
}
