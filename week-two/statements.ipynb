{
 "cells": [
  {
   "cell_type": "markdown",
   "id": "78540cfe-2823-43af-872f-63106fab474f",
   "metadata": {},
   "source": [
    "### Creating an If Statement"
   ]
  },
  {
   "cell_type": "code",
   "execution_count": 1,
   "id": "initial_id",
   "metadata": {},
   "outputs": [
    {
     "name": "stdout",
     "output_type": "stream",
     "text": [
      "2\n",
      "4\n"
     ]
    }
   ],
   "source": [
    "# create a simple if statement\n",
    "a = 5\n",
    "b = 3\n",
    "if a > b:\n",
    "    a = 2\n",
    "    b = 4\n",
    "print(a)\n",
    "print(b)"
   ]
  },
  {
   "cell_type": "markdown",
   "id": "88d1522b-bb18-4bff-a16b-cf1bfb08a689",
   "metadata": {},
   "source": [
    "- Python gets rid of () & {} by incorporating a colon and whitespace. The statement ends with a colon and whitespace is used to show what takes place in case of the statement\n",
    "- Semicolons are used to denote statement endings in many languages, but in Python, the end of a line is the same as the end of a statement\n",
    "- Indentation is mandatory in Python"
   ]
  },
  {
   "cell_type": "code",
   "execution_count": 4,
   "id": "f5f8f940-682a-409f-a901-7d773298f8ab",
   "metadata": {},
   "outputs": [
    {
     "name": "stdout",
     "output_type": "stream",
     "text": [
      "Welcome to the bank!\n"
     ]
    }
   ],
   "source": [
    "loc = 'Bank'\n",
    "if loc == 'Auto shop':\n",
    "    print('Welcome to the Auto Shop')\n",
    "elif loc == 'Bank':\n",
    "    print('Welcome to the bank!')\n",
    "else:\n",
    "    print('Where are you?')"
   ]
  },
  {
   "cell_type": "markdown",
   "id": "28ef527d-2323-44cf-bbde-3c79d6429c73",
   "metadata": {},
   "source": [
    "### For looping a list"
   ]
  },
  {
   "cell_type": "code",
   "execution_count": 5,
   "id": "012514f6-ae8b-47c3-abff-dd5bc503fa14",
   "metadata": {},
   "outputs": [
    {
     "name": "stdout",
     "output_type": "stream",
     "text": [
      "1\n",
      "2\n",
      "3\n",
      "4\n",
      "5\n",
      "6\n",
      "7\n",
      "8\n",
      "9\n",
      "10\n"
     ]
    }
   ],
   "source": [
    "list1 = [1, 2, 3, 4, 5, 6, 7, 8, 9, 10]\n",
    "for num in list1:\n",
    "    print(num)"
   ]
  },
  {
   "cell_type": "markdown",
   "id": "6720e32a-3a0d-44ca-a998-07bc37f20937",
   "metadata": {},
   "source": [
    "### Exercise 1: \n",
    "Use.split() and if statement to create a statement that will print out wors that start with 's'"
   ]
  },
  {
   "cell_type": "code",
   "execution_count": 8,
   "id": "39680e85-7c74-4234-885a-fc6d609fad84",
   "metadata": {},
   "outputs": [
    {
     "name": "stdout",
     "output_type": "stream",
     "text": [
      "start\n",
      "s\n",
      "sentence\n"
     ]
    }
   ],
   "source": [
    "st = 'Print only the words that start with s in this sentence'\n",
    "list_of_words = st.split()\n",
    "for word in list_of_words:\n",
    "    if word[0] == 's':\n",
    "        print(word)"
   ]
  },
  {
   "cell_type": "markdown",
   "id": "d2e3519f-d590-41f3-87a9-113376ab0e50",
   "metadata": {},
   "source": [
    "### Printing only even numbers"
   ]
  },
  {
   "cell_type": "code",
   "execution_count": 9,
   "id": "28650446-6c93-402b-b818-2db3d0be9b3f",
   "metadata": {},
   "outputs": [
    {
     "name": "stdout",
     "output_type": "stream",
     "text": [
      "2\n",
      "4\n",
      "6\n",
      "8\n",
      "10\n"
     ]
    }
   ],
   "source": [
    "for num in list1:\n",
    "    if num % 2 == 0:\n",
    "        print(num)"
   ]
  },
  {
   "cell_type": "markdown",
   "id": "28ccae1d-be17-4113-9769-09d2aa160122",
   "metadata": {},
   "source": [
    "### Exercise 2\n",
    "Write a program that prints integers from 1 to 100. But for multiples But for multiples of three, print \"Fizz\" instead of the number, and for the multiples of five print \"Buzz\". For numbers which are multiples of both three and five, print \"FizzBuzz\""
   ]
  },
  {
   "cell_type": "code",
   "execution_count": 10,
   "id": "09974eee-eba4-4f16-91ea-44f29d6a2f03",
   "metadata": {},
   "outputs": [
    {
     "name": "stdout",
     "output_type": "stream",
     "text": [
      "Fizz\n",
      "Buzz\n",
      "Fizz\n",
      "Fizz\n",
      "Buzz\n",
      "Fizz\n",
      "FizzBuzz\n",
      "Fizz\n",
      "Buzz\n",
      "Fizz\n",
      "Fizz\n",
      "Buzz\n",
      "Fizz\n",
      "FizzBuzz\n",
      "Fizz\n",
      "Buzz\n",
      "Fizz\n",
      "Fizz\n",
      "Buzz\n",
      "Fizz\n",
      "FizzBuzz\n",
      "Fizz\n",
      "Buzz\n",
      "Fizz\n",
      "Fizz\n",
      "Buzz\n",
      "Fizz\n",
      "FizzBuzz\n",
      "Fizz\n",
      "Buzz\n",
      "Fizz\n",
      "Fizz\n",
      "Buzz\n",
      "Fizz\n",
      "FizzBuzz\n",
      "Fizz\n",
      "Buzz\n",
      "Fizz\n",
      "Fizz\n",
      "Buzz\n",
      "Fizz\n",
      "FizzBuzz\n",
      "Fizz\n",
      "Buzz\n",
      "Fizz\n",
      "Fizz\n"
     ]
    }
   ],
   "source": [
    "for number in range(1, 100):\n",
    "    if number % 3 == 0 and number % 5 == 0:\n",
    "        print(\"FizzBuzz\")\n",
    "    elif number % 3 == 0:\n",
    "        print(\"Fizz\")\n",
    "    elif number %  5 == 0:\n",
    "        print(\"Buzz\")"
   ]
  },
  {
   "cell_type": "markdown",
   "id": "e7670935-99c8-47d9-8f95-4f03cc62785b",
   "metadata": {},
   "source": [
    "### Tuples have a special quality when it comes to for loops"
   ]
  },
  {
   "cell_type": "code",
   "execution_count": 12,
   "id": "56c724cf-7fd6-4f39-a89b-8c75c3912289",
   "metadata": {},
   "outputs": [
    {
     "name": "stdout",
     "output_type": "stream",
     "text": [
      "(2, 4)\n",
      "(6, 8)\n",
      "(10, 12)\n",
      "2\n",
      "6\n",
      "10\n"
     ]
    }
   ],
   "source": [
    "list2 = [(2, 4), (6, 8), (10, 12)]\n",
    "for tup in list2:\n",
    "    print(tup)\n",
    "for (t1, t2) in list2:\n",
    "    print(t1)"
   ]
  },
  {
   "cell_type": "markdown",
   "id": "ef955846-d957-4643-aae2-42f0d0c09a45",
   "metadata": {},
   "source": [
    "### Exercise 3\n",
    "You're given a list of tuples, where each tuple contains a student's name and their respective score. Your task is to iterate over the list, unpack each tuple into its name and score, and print the names of students who got more than 70."
   ]
  },
  {
   "cell_type": "code",
   "execution_count": 13,
   "id": "bd71f83a-56ea-4c34-beec-7e80dbf4605d",
   "metadata": {},
   "outputs": [
    {
     "name": "stdout",
     "output_type": "stream",
     "text": [
      "Emma 85\n",
      "Liam 90\n",
      "Sophia 72\n"
     ]
    }
   ],
   "source": [
    "students_scores = [('John', 65), ('Emma', 85), ('Liam', 90), ('Sophia', 72), ('Olivia', 68)]\n",
    "for name, score in students_scores:\n",
    "    if score > 70:\n",
    "        print(name, score)"
   ]
  },
  {
   "cell_type": "markdown",
   "id": "3bd09a56-1cc9-4901-bdcc-57b5e644733b",
   "metadata": {},
   "source": [
    "### Using a for loop to iterate through dictionaries"
   ]
  },
  {
   "cell_type": "code",
   "execution_count": 17,
   "id": "a8c160f7-ca9a-4dae-beaf-4a36fb44aa80",
   "metadata": {},
   "outputs": [
    {
     "name": "stdout",
     "output_type": "stream",
     "text": [
      "k1\n",
      "k2\n",
      "k3\n",
      "['k1', 'k2', 'k3']\n"
     ]
    },
    {
     "data": {
      "text/plain": [
       "[1, 2, 3]"
      ]
     },
     "execution_count": 17,
     "metadata": {},
     "output_type": "execute_result"
    }
   ],
   "source": [
    "d  = {'k1':1, 'k2':2, 'k3':3}\n",
    "for item in d:\n",
    "    print(item)\n",
    "\n",
    "print(list(d.keys()))\n",
    "sorted(d.values())"
   ]
  },
  {
   "cell_type": "markdown",
   "id": "59aee12e-a984-40f0-9627-9f6bc1fbc330",
   "metadata": {},
   "source": [
    "### Exercise 4\n",
    "You're given a dictionary that stores the prices of druits. Your task is to iterate over the dictionary, unpacking the keys and values, and print each fruit name and its price in this format: \"The price of [ fruit ] is [ price ] dollars"
   ]
  },
  {
   "cell_type": "code",
   "execution_count": 21,
   "id": "4fc610f8-9f51-4714-aa86-66725ca7a5d2",
   "metadata": {},
   "outputs": [
    {
     "name": "stdout",
     "output_type": "stream",
     "text": [
      "The price of Apple is 3 dollars\n",
      "The price of Banana is 1 dollars\n",
      "The price of Orange is 2 dollars\n",
      "The price of Mango is 5 dollars\n",
      "The price of Grapes is 4 dollars\n"
     ]
    }
   ],
   "source": [
    "fruit_prices = {'Apple':3, 'Banana':1, 'Orange':2, 'Mango':5, 'Grapes':4}\n",
    "for fruit, price in fruit_prices.items():\n",
    "    print(\"The price of\", fruit, \"is\", price, \"dollars\")"
   ]
  },
  {
   "cell_type": "markdown",
   "id": "5bec40b5-63a9-4fc6-8288-6ded8a5addf8",
   "metadata": {},
   "source": [
    "### Break, Continue & Pass\n",
    " - **Break**: breaks out of the current closest enclosing loop, which is the same between Java & Python \n",
    " - **Continue**: goes to the top of the closes enclosing loop, which is the same between Java & Python\n",
    " - **Pass**: this does nothing at all, it's used as a placeholder where code is syntactically required but no action is needed"
   ]
  },
  {
   "cell_type": "code",
   "execution_count": 23,
   "id": "01c16eae-d60c-431f-a801-29cb18f7fc6c",
   "metadata": {},
   "outputs": [
    {
     "name": "stdout",
     "output_type": "stream",
     "text": [
      "x is currently:  0\n",
      "x is still less than 10, adding 1 to x\n",
      "continuing\n",
      "x is currently:  1\n",
      "x is still less than 10, adding 1 to x\n",
      "continuing\n",
      "x is currently:  2\n",
      "x is still less than 10, adding 1 to x\n",
      "x == 3\n"
     ]
    }
   ],
   "source": [
    "x = 0\n",
    "while x < 10:\n",
    "    print('x is currently: ', x)\n",
    "    print('x is still less than 10, adding 1 to x')\n",
    "    x = x + 1\n",
    "    if x == 3:\n",
    "        print('x == 3')\n",
    "        break\n",
    "    else:\n",
    "        print('continuing')\n",
    "        continue"
   ]
  },
  {
   "cell_type": "markdown",
   "id": "781ebdc6-b21a-44b4-92d5-607cabfa56d6",
   "metadata": {},
   "source": [
    "### Range\n",
    "Range is a generator function "
   ]
  },
  {
   "cell_type": "code",
   "execution_count": 24,
   "id": "d05f5f6b-6c33-41ac-93dd-aaa8d07d25bb",
   "metadata": {},
   "outputs": [
    {
     "data": {
      "text/plain": [
       "[0, 1, 2, 3, 4, 5, 6, 7, 8, 9, 10]"
      ]
     },
     "execution_count": 24,
     "metadata": {},
     "output_type": "execute_result"
    }
   ],
   "source": [
    "list(range(0, 11))"
   ]
  },
  {
   "cell_type": "code",
   "execution_count": 25,
   "id": "95a8a1ee-e6c4-43a4-9b33-a095b9d1df2e",
   "metadata": {},
   "outputs": [
    {
     "data": {
      "text/plain": [
       "[0, 2, 4, 6, 8, 10]"
      ]
     },
     "execution_count": 25,
     "metadata": {},
     "output_type": "execute_result"
    }
   ],
   "source": [
    "list(range(0, 11, 2))"
   ]
  },
  {
   "cell_type": "markdown",
   "id": "6b042876-3ac9-442e-9ba2-77e468c9c6d2",
   "metadata": {},
   "source": [
    "### Enumerate"
   ]
  },
  {
   "cell_type": "code",
   "execution_count": 27,
   "id": "e0615ce8-19d2-4295-97ea-89aa0b1a7033",
   "metadata": {},
   "outputs": [
    {
     "name": "stdout",
     "output_type": "stream",
     "text": [
      "At index 0 the letter is a\n",
      "At index 1 the letter is b\n",
      "At index 2 the letter is c\n",
      "At index 3 the letter is d\n",
      "At index 4 the letter is e\n"
     ]
    }
   ],
   "source": [
    "index_count = 0\n",
    "for letter in 'abcde':\n",
    "    print(\"At index {} the letter is {}\".format(index_count, letter))\n",
    "    index_count += 1"
   ]
  },
  {
   "cell_type": "markdown",
   "id": "6c1e0e20-61a4-474e-9ef9-675dafe1bd99",
   "metadata": {},
   "source": [
    "## Zip"
   ]
  },
  {
   "cell_type": "code",
   "execution_count": 28,
   "id": "2cf15f3b-fab5-4b0f-b0d2-9b84543c389f",
   "metadata": {},
   "outputs": [
    {
     "data": {
      "text/plain": [
       "[(0, 'a'), (1, 'b'), (2, 'c'), (3, 'd'), (4, 'e')]"
      ]
     },
     "execution_count": 28,
     "metadata": {},
     "output_type": "execute_result"
    }
   ],
   "source": [
    "list(enumerate('abcde'))"
   ]
  },
  {
   "cell_type": "code",
   "execution_count": 30,
   "id": "47e4633f-d260-4f29-beff-9f505295894a",
   "metadata": {},
   "outputs": [
    {
     "data": {
      "text/plain": [
       "[(1, 'a'), (2, 'b'), (3, 'c'), (4, 'd'), (5, 'e')]"
      ]
     },
     "execution_count": 30,
     "metadata": {},
     "output_type": "execute_result"
    }
   ],
   "source": [
    "mylist1 = [1, 2, 3, 4, 5]\n",
    "mylist2 = ['a', 'b', 'c', 'd', 'e']\n",
    "zip(mylist1, mylist2)\n",
    "list(zip(mylist1, mylist2))"
   ]
  },
  {
   "cell_type": "markdown",
   "id": "209ace3c-f089-4ace-b466-298132418eb0",
   "metadata": {},
   "source": [
    "### Exercise 5\n",
    "You're given two lists, one which contains the names of students, and the other containing their respective grades. Use zip and enumerate to print out index, name, and grade of each student"
   ]
  },
  {
   "cell_type": "code",
   "execution_count": 4,
   "id": "2e80b8d9-83fc-4dbe-b958-05b8391cd2ad",
   "metadata": {},
   "outputs": [
    {
     "name": "stdout",
     "output_type": "stream",
     "text": [
      "1 . John  has a grade of  85\n",
      "2 . Alice  has a grade of  92\n",
      "3 . Bob  has a grade of  78\n",
      "4 . Maria  has a grade of  90\n"
     ]
    }
   ],
   "source": [
    "students = ['John', 'Alice', 'Bob', 'Maria']\n",
    "grades = [85, 92, 78, 90]\n",
    "students_grades = list(zip(students, grades))\n",
    "count = 1\n",
    "for students, grades in students_grades:\n",
    "    print(count, \".\", students, \" has a grade of \", grades)\n",
    "    count = count + 1\n",
    "\n"
   ]
  },
  {
   "cell_type": "markdown",
   "id": "686c8051-75fa-4496-8ae8-b1d81afc1490",
   "metadata": {},
   "source": [
    "### In, Not in, Random & Input"
   ]
  },
  {
   "cell_type": "code",
   "execution_count": 9,
   "id": "34b2f90b-7362-41b6-937e-e45c1636b238",
   "metadata": {},
   "outputs": [
    {
     "name": "stdout",
     "output_type": "stream",
     "text": [
      "True\n",
      "False\n",
      "False\n",
      "True\n"
     ]
    }
   ],
   "source": [
    "print('x' in ['x', 'y', 'z'])\n",
    "print('x' in [1, 2, 3])\n",
    "print('x' not in ['x', 'y', 'z'])\n",
    "print('x' not in [1, 2, 3])"
   ]
  },
  {
   "cell_type": "code",
   "execution_count": 13,
   "id": "f9d0d794-2bc5-4a75-9302-432f95b08563",
   "metadata": {},
   "outputs": [
    {
     "name": "stdout",
     "output_type": "stream",
     "text": [
      "[2, 4, 1, 3, 5]\n"
     ]
    }
   ],
   "source": [
    "from random import shuffle\n",
    "mylist = [1, 2, 3, 4, 5]\n",
    "shuffle(mylist)\n",
    "print(mylist)"
   ]
  },
  {
   "cell_type": "code",
   "execution_count": 14,
   "id": "e587129a-c496-4eb3-8887-ae5d1cdf2be1",
   "metadata": {},
   "outputs": [
    {
     "name": "stdout",
     "output_type": "stream",
     "text": [
      "97\n"
     ]
    }
   ],
   "source": [
    "from random import randint\n",
    "number = randint(0, 100)\n",
    "print(number)"
   ]
  },
  {
   "cell_type": "code",
   "execution_count": 15,
   "id": "4e31e124-e0ec-4bd1-9b61-c4abeb18dd65",
   "metadata": {},
   "outputs": [
    {
     "name": "stdin",
     "output_type": "stream",
     "text": [
      "Enter something into this box:  Hello\n"
     ]
    },
    {
     "name": "stdout",
     "output_type": "stream",
     "text": [
      "Hello\n"
     ]
    }
   ],
   "source": [
    "name = input('Enter something into this box: ')\n",
    "print(name)"
   ]
  },
  {
   "cell_type": "markdown",
   "id": "6ef5b4c0-b2a1-4667-82ba-6c197c09244d",
   "metadata": {},
   "source": [
    "### List Comprehension"
   ]
  },
  {
   "cell_type": "code",
   "execution_count": 16,
   "id": "e8266393-83e3-4a21-9904-c7f057ed866e",
   "metadata": {},
   "outputs": [
    {
     "name": "stdout",
     "output_type": "stream",
     "text": [
      "['w', 'o', 'r', 'd']\n"
     ]
    }
   ],
   "source": [
    "# grabbing every letter in string\n",
    "lst = [x for x in 'word']\n",
    "print(lst)"
   ]
  },
  {
   "cell_type": "code",
   "execution_count": 17,
   "id": "18f3bfde-6867-4660-813b-d8b3de195594",
   "metadata": {},
   "outputs": [
    {
     "name": "stdout",
     "output_type": "stream",
     "text": [
      "[0, 1, 4, 9, 16, 25, 36, 49, 64, 81, 100]\n"
     ]
    }
   ],
   "source": [
    "# square numbers in range and turn into list\n",
    "lst = [x**2 for x in range(0, 11)]\n",
    "print(lst)"
   ]
  },
  {
   "cell_type": "code",
   "execution_count": 18,
   "id": "cc923a12-f030-4f02-965f-ef48f79fc48e",
   "metadata": {},
   "outputs": [
    {
     "name": "stdout",
     "output_type": "stream",
     "text": [
      "[0, 2, 4, 6, 8, 10]\n"
     ]
    }
   ],
   "source": [
    "# check for even numbers in a range\n",
    "lst = [x for x in range(11) if x % 2 == 0]\n",
    "print(lst)"
   ]
  },
  {
   "cell_type": "code",
   "execution_count": 21,
   "id": "657f9482-9f09-4177-a64a-2398832e92a6",
   "metadata": {},
   "outputs": [
    {
     "data": {
      "text/plain": [
       "[32.0, 50.0, 68.18, 94.1]"
      ]
     },
     "execution_count": 21,
     "metadata": {},
     "output_type": "execute_result"
    }
   ],
   "source": [
    "celsius = [0, 10, 20.1, 34.5]\n",
    "farenheit = [((9/5) * temp + 32) for temp in celsius]\n",
    "farenheit"
   ]
  },
  {
   "cell_type": "code",
   "execution_count": 22,
   "id": "e9508150-d7f2-4f73-81a6-9221b3dd64e9",
   "metadata": {},
   "outputs": [
    {
     "data": {
      "text/plain": [
       "[0, 1, 16, 81, 256, 625, 1296, 2401, 4096, 6561, 10000]"
      ]
     },
     "execution_count": 22,
     "metadata": {},
     "output_type": "execute_result"
    }
   ],
   "source": [
    "lst = [x**2 for x in [x**2 for x in range(11)]]\n",
    "lst"
   ]
  },
  {
   "cell_type": "markdown",
   "id": "db90d1a6-5f9e-4acc-96e6-fc5ca12652a8",
   "metadata": {},
   "source": [
    "### Exercise 6\n",
    "Use a list comprehension to create a list of the first letters of every word in the string below"
   ]
  },
  {
   "cell_type": "code",
   "execution_count": 26,
   "id": "57488d13-e028-4a1f-af48-791238fbd281",
   "metadata": {},
   "outputs": [
    {
     "name": "stdout",
     "output_type": "stream",
     "text": [
      "['C', 'a', 'l', 'o', 't', 'f', 'l', 'o', 'e', 'w', 'i', 't', 's']\n"
     ]
    }
   ],
   "source": [
    "st = 'Create a list of the first letters of every word in this string'\n",
    "lst = [x[0] for x in st.split()]\n",
    "print(lst)"
   ]
  }
 ],
 "metadata": {
  "kernelspec": {
   "display_name": "Python 3 (ipykernel)",
   "language": "python",
   "name": "python3"
  },
  "language_info": {
   "codemirror_mode": {
    "name": "ipython",
    "version": 3
   },
   "file_extension": ".py",
   "mimetype": "text/x-python",
   "name": "python",
   "nbconvert_exporter": "python",
   "pygments_lexer": "ipython3",
   "version": "3.11.9"
  }
 },
 "nbformat": 4,
 "nbformat_minor": 5
}
