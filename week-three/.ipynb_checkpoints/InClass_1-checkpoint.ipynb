{
  "nbformat": 4,
  "nbformat_minor": 0,
  "metadata": {
    "colab": {
      "provenance": []
    },
    "kernelspec": {
      "name": "python3",
      "display_name": "Python 3"
    },
    "language_info": {
      "name": "python"
    }
  },
  "cells": [
    {
      "cell_type": "markdown",
      "source": [
        "## Exercise 1"
      ],
      "metadata": {
        "id": "2fC7v_ESWHHI"
      }
    },
    {
      "cell_type": "code",
      "source": [
        "numbers = [1, 2, 3, 4, 5, 6, 7, 8, 9, 10]\n",
        "\n",
        "# Using a lambda expression to filter out even numbers\n",
        "odd_numbers = list(filter(lambda x: x % 2 != 0, numbers))\n",
        "\n",
        "print(odd_numbers)\n"
      ],
      "metadata": {
        "colab": {
          "base_uri": "https://localhost:8080/"
        },
        "id": "OWgkv1GKT_2w",
        "outputId": "1a2ae7b2-c20e-4440-bcfb-c4177ff40805"
      },
      "execution_count": null,
      "outputs": [
        {
          "output_type": "stream",
          "name": "stdout",
          "text": [
            "[1, 3, 5, 7, 9]\n"
          ]
        }
      ]
    },
    {
      "cell_type": "markdown",
      "source": [
        "## Exercise 2"
      ],
      "metadata": {
        "id": "64v4tIpYTfco"
      }
    },
    {
      "cell_type": "code",
      "execution_count": null,
      "metadata": {
        "colab": {
          "base_uri": "https://localhost:8080/"
        },
        "id": "s4BDVHtkSyX3",
        "outputId": "786fca1d-bd1d-4e70-8c0f-6f41629db082"
      },
      "outputs": [
        {
          "output_type": "stream",
          "name": "stdout",
          "text": [
            "[('Bob', 25), ('Alice', 30), ('Charlie', 35)]\n"
          ]
        }
      ],
      "source": [
        "people = [(\"Alice\", 30),(\"Bob\", 25), (\"Charlie\", 35)]\n",
        "\n",
        "sorted_people = sorted(people, key=lambda x: x[1])\n",
        "\n",
        "print(sorted_people)"
      ]
    },
    {
      "cell_type": "markdown",
      "source": [
        "## Exercise 3"
      ],
      "metadata": {
        "id": "73XOb8K-gkZe"
      }
    },
    {
      "cell_type": "code",
      "source": [
        "# Writing the code from the image and running it to check the correctness\n",
        "def sum_values(*args):\n",
        "    total = 0\n",
        "    for arg in args:\n",
        "        if isinstance(arg, (int, float)):\n",
        "            total += arg\n",
        "    return total\n",
        "\n",
        "# Test the function with the provided arguments\n",
        "result = sum_values(1, 2, 3, \"four\", 5, 6, \"seven\")\n",
        "result\n"
      ],
      "metadata": {
        "colab": {
          "base_uri": "https://localhost:8080/"
        },
        "id": "WcPREKV7gnuX",
        "outputId": "65b7f4f2-510f-47b3-f757-5176de7330f4"
      },
      "execution_count": null,
      "outputs": [
        {
          "output_type": "execute_result",
          "data": {
            "text/plain": [
              "17"
            ]
          },
          "metadata": {},
          "execution_count": 4
        }
      ]
    },
    {
      "cell_type": "markdown",
      "source": [
        "## Exercise 4"
      ],
      "metadata": {
        "id": "CEPCLWPthTwu"
      }
    },
    {
      "cell_type": "code",
      "source": [
        "def ask():\n",
        "\n",
        "    while True:\n",
        "        try:\n",
        "            n = int(input('Input an integer: '))\n",
        "        except:\n",
        "            print('An error occurred! Please try again!')\n",
        "            continue\n",
        "        else:\n",
        "            break\n",
        "\n",
        "\n",
        "    print('Thank you, your number squared is: ',n**2)"
      ],
      "metadata": {
        "id": "DUh54fcJhVZd"
      },
      "execution_count": null,
      "outputs": []
    },
    {
      "cell_type": "code",
      "source": [
        "ask()"
      ],
      "metadata": {
        "colab": {
          "base_uri": "https://localhost:8080/"
        },
        "id": "JUhoVvOun0g4",
        "outputId": "cb76faeb-60c6-4493-f3b0-2e88c2b85089"
      },
      "execution_count": null,
      "outputs": [
        {
          "output_type": "stream",
          "name": "stdout",
          "text": [
            "Input an integer: six\n",
            "An error occurred! Please try again!\n",
            "Input an integer: 3\n",
            "Thank you, your number squared is:  9\n"
          ]
        }
      ]
    }
  ]
}