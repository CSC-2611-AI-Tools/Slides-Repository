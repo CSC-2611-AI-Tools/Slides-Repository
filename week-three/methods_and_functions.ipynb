{
 "cells": [
  {
   "cell_type": "markdown",
   "id": "ec292ebe-116c-4a24-9f91-8d1dc8811b70",
   "metadata": {
    "collapsed": true,
    "jupyter": {
     "outputs_hidden": true
    }
   },
   "source": [
    "### Lambda Expressions\n",
    " - Lambda expressions allow to create anonymous functions, which means we can make ad-hoc functions without needing to properly define a function using `def`\n",
    " - Function objects returned by running lambda expressions work exactly the same as those created and assigned by `defs`\n",
    " - Lambda's body is a single expression, not a block of statements"
   ]
  },
  {
   "cell_type": "code",
   "execution_count": 2,
   "id": "24001af9-91f5-4717-a78a-b90f298e9eb5",
   "metadata": {},
   "outputs": [
    {
     "data": {
      "text/plain": [
       "4"
      ]
     },
     "execution_count": 2,
     "metadata": {},
     "output_type": "execute_result"
    }
   ],
   "source": [
    "square = lambda num: num ** 2\n",
    "square(2)"
   ]
  },
  {
   "cell_type": "markdown",
   "id": "31c00782-6ec5-4e89-9904-35196ae1c85a",
   "metadata": {},
   "source": [
    "### Why Lambda Expressions\n",
    "- many function calls need a function passed in, such as map and filter\n",
    "- often, you need to only use the function you're passing in once, hence instead of defining it, you use the lambda expression"
   ]
  },
  {
   "cell_type": "code",
   "execution_count": 5,
   "id": "7aef558a-19c2-42f4-bd72-6504476a42ca",
   "metadata": {},
   "outputs": [
    {
     "data": {
      "text/plain": [
       "[1, 4, 9, 16, 25, 36]"
      ]
     },
     "execution_count": 5,
     "metadata": {},
     "output_type": "execute_result"
    }
   ],
   "source": [
    "my_nums = [1, 2, 3, 4, 5, 6]\n",
    "list(map(lambda num: num ** 2, my_nums))"
   ]
  },
  {
   "cell_type": "code",
   "execution_count": 7,
   "id": "5020df8d-01e0-4cf0-a4bc-a74b40d8ae98",
   "metadata": {},
   "outputs": [
    {
     "data": {
      "text/plain": [
       "[2, 4, 6]"
      ]
     },
     "execution_count": 7,
     "metadata": {},
     "output_type": "execute_result"
    }
   ],
   "source": [
    "nums = [1, 2, 3, 4, 5, 6]\n",
    "list(filter(lambda n: n % 2 == 0, nums))"
   ]
  },
  {
   "cell_type": "code",
   "execution_count": 11,
   "id": "b1d1de77-b21e-44be-bda4-8e1c8c9517a9",
   "metadata": {},
   "outputs": [
    {
     "name": "stdout",
     "output_type": "stream",
     "text": [
      "S\n"
     ]
    }
   ],
   "source": [
    "s = \"Salvin\"\n",
    "result = (lambda s: s[0])(s)\n",
    "print(result)  # "
   ]
  },
  {
   "cell_type": "code",
   "execution_count": 12,
   "id": "b5981b0d-7183-4e2c-9ee1-801ad0001628",
   "metadata": {},
   "outputs": [
    {
     "name": "stdout",
     "output_type": "stream",
     "text": [
      "nivlaS\n"
     ]
    }
   ],
   "source": [
    "s = \"Salvin\"\n",
    "result = (lambda s: s[::-1])(s)\n",
    "print(result)  # "
   ]
  },
  {
   "cell_type": "code",
   "execution_count": 15,
   "id": "c1091930-73f3-4cff-ac4e-b00a9b06815f",
   "metadata": {},
   "outputs": [
    {
     "name": "stdout",
     "output_type": "stream",
     "text": [
      "8\n"
     ]
    }
   ],
   "source": [
    "x = 3\n",
    "y = 5\n",
    "result = (lambda x, y: x + y)(x, y)\n",
    "print(result)  # Output: 8"
   ]
  },
  {
   "cell_type": "markdown",
   "id": "e6fdd158-8d74-4e5d-ba9b-f7ba60cc2397",
   "metadata": {},
   "source": [
    "### Exercise 1\n",
    "You're given a list of integers. Write a lambda expression to filter out all the even numbers from the list"
   ]
  },
  {
   "cell_type": "code",
   "execution_count": 17,
   "id": "7da6b530-f8e5-4ef3-9cc2-10cc61650177",
   "metadata": {},
   "outputs": [
    {
     "name": "stdout",
     "output_type": "stream",
     "text": [
      "[2, 4, 6, 8, 10]\n"
     ]
    }
   ],
   "source": [
    "nums = [1, 2, 3, 4, 5, 6, 7, 8, 9, 10]\n",
    "result = list(filter(lambda n: n % 2 == 0, nums))\n",
    "print(result)"
   ]
  },
  {
   "cell_type": "markdown",
   "id": "37a4dfa8-cb53-4169-8c5e-946e4d2c89e1",
   "metadata": {},
   "source": [
    "### Exercise 2\n",
    "Given a list of tuples representing names and ages, use a lambda expression to sort the list based on age in ascending order"
   ]
  },
  {
   "cell_type": "code",
   "execution_count": null,
   "id": "8da92519-6aec-4611-8a68-0385bcf6c93a",
   "metadata": {},
   "outputs": [],
   "source": []
  },
  {
   "cell_type": "markdown",
   "id": "2a5b97b8-f8b1-483c-93c4-8d51a5c2c101",
   "metadata": {},
   "source": [
    "### Nested Statements & Scope"
   ]
  },
  {
   "cell_type": "code",
   "execution_count": 19,
   "id": "fa30d0f7-8a6b-41b7-944a-932e924dd486",
   "metadata": {},
   "outputs": [
    {
     "name": "stdout",
     "output_type": "stream",
     "text": [
      "25\n",
      "\n",
      "None\n"
     ]
    }
   ],
   "source": [
    "x = 25\n",
    "def printer():\n",
    "    x = 50\n",
    "    return x\n",
    "print(x)\n",
    "print(print())"
   ]
  },
  {
   "cell_type": "markdown",
   "id": "e3fcf5ae-b017-44ae-9ed1-101d7880907f",
   "metadata": {},
   "source": [
    "### LEGB Rule\n",
    "- L: Local - names assigned in any way within a function and not declared global in that function\n",
    "- E : Enclosing function locals - names in the local scope of any and all enclosing functions from inner to outer\n",
    "- G : Global - names assigned at the top-level of a module file, or declared global in a def within the file\n",
    "- B : Built-in Python - names pre-assigned in the built-in names module: open, range, SyntaxError"
   ]
  },
  {
   "cell_type": "code",
   "execution_count": null,
   "id": "03e0ec00-8749-4115-bbaa-caf08deb7a4d",
   "metadata": {},
   "outputs": [],
   "source": [
    "# x is local here\n",
    "f = lambda x : x ** 2"
   ]
  },
  {
   "cell_type": "markdown",
   "id": "95970313-0700-4e94-9b14-8e1ea2f69398",
   "metadata": {},
   "source": [
    "### Enclosing Local Functions"
   ]
  },
  {
   "cell_type": "code",
   "execution_count": 20,
   "id": "7fae8a55-7180-48b0-b166-14b56ed6b3d9",
   "metadata": {},
   "outputs": [
    {
     "name": "stdout",
     "output_type": "stream",
     "text": [
      "Hello Sammy\n"
     ]
    }
   ],
   "source": [
    "name = 'This is a global name'\n",
    "def greet():\n",
    "    name = 'Sammy'\n",
    "    def hello():\n",
    "        print('Hello ' + name)\n",
    "    hello()\n",
    "greet()\n"
   ]
  },
  {
   "cell_type": "markdown",
   "id": "242175c5-529b-4b6c-aa91-9af535c835b3",
   "metadata": {},
   "source": [
    "### *args and **kwargs\n",
    "- *args: When a function parameter starts with an asterisk, it allows for an arbitrary number of arguments, and the function takes them in as a tuple of values\n",
    "- **kwargs: python offers a way to handle arbitrary numbers of keyworded arguments. Instead of a tuple of values, **kwargs builds a dictionary of key/value pairs"
   ]
  },
  {
   "cell_type": "code",
   "execution_count": 22,
   "id": "e2b89739-56ff-4ec2-afae-83671c9e7f20",
   "metadata": {},
   "outputs": [
    {
     "data": {
      "text/plain": [
       "6.0"
      ]
     },
     "execution_count": 22,
     "metadata": {},
     "output_type": "execute_result"
    }
   ],
   "source": [
    "def myfunc(a=0, b=0, c=0, d=0, e=0):\n",
    "    return sum((a, b, c, d, e))*.05\n",
    "myfunc(40, 60, 20)"
   ]
  },
  {
   "cell_type": "code",
   "execution_count": 23,
   "id": "5166f70b-824b-4c60-97c9-d9527ad18774",
   "metadata": {},
   "outputs": [
    {
     "data": {
      "text/plain": [
       "6.0"
      ]
     },
     "execution_count": 23,
     "metadata": {},
     "output_type": "execute_result"
    }
   ],
   "source": [
    "def myfunc(*args):\n",
    "    return sum(args)*.05\n",
    "myfunc(40, 60, 20)"
   ]
  },
  {
   "cell_type": "code",
   "execution_count": 31,
   "id": "b66c40f7-dc27-4a2c-bbbd-30d5f5204e30",
   "metadata": {},
   "outputs": [
    {
     "name": "stdout",
     "output_type": "stream",
     "text": [
      "My favorite fruit is ['pineapple', 'apple']\n"
     ]
    }
   ],
   "source": [
    "def myfunc(**kwargs):\n",
    "    if 'fruit' in kwargs:\n",
    "        print(f\"My favorite fruit is {kwargs['fruit']}\")\n",
    "    else:\n",
    "        print(\"I don't like fruit\")\n",
    "\n",
    "myfunc(fruit=['pineapple','apple'])"
   ]
  },
  {
   "cell_type": "markdown",
   "id": "7ba1dcb2-005d-4bc7-94f4-276deb150ddb",
   "metadata": {},
   "source": [
    "### *args and *kwargs Combined\n",
    "You can pass *args and *kwargs into the same function, but *args have to appear before *kwargs"
   ]
  },
  {
   "cell_type": "code",
   "execution_count": 28,
   "id": "33441a01-34d9-4ac7-9aab-f1728a47972f",
   "metadata": {},
   "outputs": [
    {
     "name": "stdout",
     "output_type": "stream",
     "text": [
      "I like eggs and spam and my favorite fruit is cherries\n",
      "May I have some orange juice?\n"
     ]
    }
   ],
   "source": [
    "def myfunc(*args, **kwargs):\n",
    "    if 'fruit' and 'juice' in kwargs:\n",
    "        print(f\"I like {' and '.join(args)} and my favorite fruit is {kwargs['fruit']}\")\n",
    "        print(f\"May I have some {kwargs['juice']} juice?\")\n",
    "    else:\n",
    "        pass\n",
    "\n",
    "myfunc('eggs', 'spam', fruit='cherries', juice='orange')"
   ]
  },
  {
   "cell_type": "markdown",
   "id": "e6a8d7df-e9c7-4761-a0ad-f69586f1d11e",
   "metadata": {},
   "source": [
    "### Exercise 3\n",
    "Write a Python function called sum_values that accepts a variable number of arguments and returns the sum of all the numeric values passed as arguments. The function should ignore any non-numeric values"
   ]
  },
  {
   "cell_type": "code",
   "execution_count": 29,
   "id": "e1685f6d-9a0f-403e-9bd5-8d2f099246d6",
   "metadata": {},
   "outputs": [
    {
     "ename": "NameError",
     "evalue": "name 'sum_values' is not defined",
     "output_type": "error",
     "traceback": [
      "\u001b[1;31m---------------------------------------------------------------------------\u001b[0m",
      "\u001b[1;31mNameError\u001b[0m                                 Traceback (most recent call last)",
      "Cell \u001b[1;32mIn[29], line 1\u001b[0m\n\u001b[1;32m----> 1\u001b[0m result \u001b[38;5;241m=\u001b[39m \u001b[43msum_values\u001b[49m(\u001b[38;5;241m1\u001b[39m, \u001b[38;5;241m2\u001b[39m, \u001b[38;5;241m3\u001b[39m, \u001b[38;5;124m\"\u001b[39m\u001b[38;5;124mfour\u001b[39m\u001b[38;5;124m\"\u001b[39m, \u001b[38;5;241m5\u001b[39m, \u001b[38;5;241m6\u001b[39m, \u001b[38;5;124m\"\u001b[39m\u001b[38;5;124mseven\u001b[39m\u001b[38;5;124m\"\u001b[39m)\n\u001b[0;32m      2\u001b[0m \u001b[38;5;28mprint\u001b[39m(result)\n",
      "\u001b[1;31mNameError\u001b[0m: name 'sum_values' is not defined"
     ]
    }
   ],
   "source": [
    "result = sum_values(1, 2, 3, \"four\", 5, 6, \"seven\")\n",
    "print(result)"
   ]
  },
  {
   "cell_type": "code",
   "execution_count": null,
   "id": "f69b98f8-8b80-4b61-ad4d-53f6ec64f6f1",
   "metadata": {},
   "outputs": [],
   "source": []
  }
 ],
 "metadata": {
  "kernelspec": {
   "display_name": "Python 3 (ipykernel)",
   "language": "python",
   "name": "python3"
  },
  "language_info": {
   "codemirror_mode": {
    "name": "ipython",
    "version": 3
   },
   "file_extension": ".py",
   "mimetype": "text/x-python",
   "name": "python",
   "nbconvert_exporter": "python",
   "pygments_lexer": "ipython3",
   "version": "3.11.9"
  }
 },
 "nbformat": 4,
 "nbformat_minor": 5
}
